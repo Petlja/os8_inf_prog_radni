{
 "cells": [
  {
   "cell_type": "markdown",
   "id": "c7fee49e-f154-4ffd-bd62-787220ed88bc",
   "metadata": {},
   "source": [
    "# Основе обраде и приказа табеларних података"
   ]
  },
  {
   "cell_type": "markdown",
   "id": "8a213138-11b7-4b17-b497-43a30e56fa05",
   "metadata": {},
   "source": [
    "Обраду, анализу и графички приказ података је тешко раздвојити. Све то углавном иде паралелно. У Пајтону постоји неколико најчешће коришћених библиотека које су усаглашене тако да објекти које користимо за обраду података имају функције за цртање, а функције за цртање враћају табеле и серије. Зато је то овде једна лекција."
   ]
  },
  {
   "cell_type": "markdown",
   "id": "b3a0ed7d-8592-4083-b504-eec3a95c9aa8",
   "metadata": {},
   "source": [
    "## Обрада табеларних података"
   ]
  },
  {
   "cell_type": "markdown",
   "id": "708d9541-f2ad-476a-9325-7f6a7a919ecb",
   "metadata": {},
   "source": [
    "Много тога за шта су нам потребни програмерско знање и труд при обради података у листама постаје једноставна примена готових функција када податке спакујемо у _DataFrame_. На тај начин нам библиотека _pandas_ омогућава да рад са табелама буде једноставан, брз и ефикасан. "
   ]
  },
  {
   "cell_type": "markdown",
   "id": "9c3c04bd-ece8-4aa5-876b-fb3f0d945bfd",
   "metadata": {},
   "source": [
    "### Учитавање табеле из датотеке"
   ]
  },
  {
   "cell_type": "markdown",
   "id": "50deaeae-433a-4c39-8bbc-085cd58f2d57",
   "metadata": {},
   "source": [
    "Податке најчешће чувамо у табелама. Чак су и базе података само колекције различитих табела. За поновну употребу табеле снимамо у датотеке (или фајлове, како их понекад зовемо). Те снимљене табеле касније учитавамо по потреби. Уобичајени формат датотека за снимање табела је CSV (енгл. _comma separated value_, тј. вредности одвојене зарезом). Библиотека _pandas_ има функције за учитавање и снимање табела. За учитавање користимо функцију `pd.read_csv()`. Aргумент ове функције је стринг са локацијом и називом датотеке, нпр. \"data/preostala-mesta-skole.csv\". \n",
    "\n",
    "Ова датотека се не налази у Пајтоновом радном директоријуму већ у поддиректоријуму _data_, због чега је потребно да то напишемо и да назив директоријума и датотеке раздвојимо косом цртом. Учитаћемо сада баш ту датотеку. У њој се налази листа средњих школа у Србији где је наведено колико је било слободних места за упис после првог круга уписа 2022. године."
   ]
  },
  {
   "cell_type": "code",
   "execution_count": 1,
   "id": "a105f1b8-f8df-4b03-a233-2d6f9b0624e5",
   "metadata": {},
   "outputs": [],
   "source": [
    "import pandas as pd                # prvo uvozimo pandas biblioteku\n",
    "import matplotlib.pyplot as plt    # i biblioteku za crtanje grafika"
   ]
  },
  {
   "cell_type": "code",
   "execution_count": 2,
   "id": "62deedbb-5db3-41c6-9b68-fe121f47f65d",
   "metadata": {},
   "outputs": [],
   "source": [
    "dt = pd.read_csv('data/preostala-mesta-skole.csv')"
   ]
  },
  {
   "cell_type": "markdown",
   "id": "d64d8f53-6519-4118-adec-785e0a09d24a",
   "metadata": {},
   "source": [
    "При позивању функција из одређене библиотеке потребно је да наведемо ознаке библиотека. Зато није довољно да напишемо `read_csv()` већ морамо `pd.read_csv()`. При увожењу библиотека ми смо нагласили да ћемо користити скраћена имена уместо пуних. Користићемо `pd` уместо `pandas` и `plt` уместо `matplotlib.pyplot` што ће нам олакшати писање кôда."
   ]
  },
  {
   "cell_type": "markdown",
   "id": "bcd0724b-8577-46af-a4a2-dedd1f09ef6a",
   "metadata": {},
   "source": [
    "Садржај датотеке смо учитали и сместили у табелу (тачније променљиву типа _dataframe_) `dt`. Да бисмо видели шта је учитано, згодно је да прикажемо на екрану заглавље те табеле са првих неколико редова. За то нам служи функција `.head()`."
   ]
  },
  {
   "cell_type": "code",
   "execution_count": 3,
   "id": "335abe8a-6968-4028-9c3c-abc684c34219",
   "metadata": {},
   "outputs": [
    {
     "data": {
      "text/html": [
       "<div>\n",
       "<style scoped>\n",
       "    .dataframe tbody tr th:only-of-type {\n",
       "        vertical-align: middle;\n",
       "    }\n",
       "\n",
       "    .dataframe tbody tr th {\n",
       "        vertical-align: top;\n",
       "    }\n",
       "\n",
       "    .dataframe thead th {\n",
       "        text-align: right;\n",
       "    }\n",
       "</style>\n",
       "<table border=\"1\" class=\"dataframe\">\n",
       "  <thead>\n",
       "    <tr style=\"text-align: right;\">\n",
       "      <th></th>\n",
       "      <th>Општина</th>\n",
       "      <th>Школа</th>\n",
       "      <th>Мин. бодова</th>\n",
       "      <th>Укупно места</th>\n",
       "      <th>Преостало места</th>\n",
       "    </tr>\n",
       "  </thead>\n",
       "  <tbody>\n",
       "    <tr>\n",
       "      <th>0</th>\n",
       "      <td>Ада</td>\n",
       "      <td>Техничка школа, Ада</td>\n",
       "      <td>39.37</td>\n",
       "      <td>150</td>\n",
       "      <td>78</td>\n",
       "    </tr>\n",
       "    <tr>\n",
       "      <th>1</th>\n",
       "      <td>Александровац</td>\n",
       "      <td>Средња школа \"Свети Трифун\" са домом ученика, ...</td>\n",
       "      <td>42.77</td>\n",
       "      <td>90</td>\n",
       "      <td>48</td>\n",
       "    </tr>\n",
       "    <tr>\n",
       "      <th>2</th>\n",
       "      <td>Алексинац</td>\n",
       "      <td>Алексиначка гимназија, Алексинац</td>\n",
       "      <td>63.19</td>\n",
       "      <td>90</td>\n",
       "      <td>29</td>\n",
       "    </tr>\n",
       "    <tr>\n",
       "      <th>3</th>\n",
       "      <td>Алексинац</td>\n",
       "      <td>Биотехнолошка школа \"Шуматовац\", Алексинац</td>\n",
       "      <td>40.76</td>\n",
       "      <td>60</td>\n",
       "      <td>25</td>\n",
       "    </tr>\n",
       "    <tr>\n",
       "      <th>4</th>\n",
       "      <td>Алексинац</td>\n",
       "      <td>Техничка школа \"Прота Стеван Димитријевић\", Ал...</td>\n",
       "      <td>50.16</td>\n",
       "      <td>30</td>\n",
       "      <td>1</td>\n",
       "    </tr>\n",
       "  </tbody>\n",
       "</table>\n",
       "</div>"
      ],
      "text/plain": [
       "         Општина                                              Школа  \\\n",
       "0            Ада                                Техничка школа, Ада   \n",
       "1  Александровац  Средња школа \"Свети Трифун\" са домом ученика, ...   \n",
       "2      Алексинац                   Алексиначка гимназија, Алексинац   \n",
       "3      Алексинац         Биотехнолошка школа \"Шуматовац\", Алексинац   \n",
       "4      Алексинац  Техничка школа \"Прота Стеван Димитријевић\", Ал...   \n",
       "\n",
       "   Мин. бодова  Укупно места  Преостало места  \n",
       "0        39.37           150               78  \n",
       "1        42.77            90               48  \n",
       "2        63.19            90               29  \n",
       "3        40.76            60               25  \n",
       "4        50.16            30                1  "
      ]
     },
     "execution_count": 3,
     "metadata": {},
     "output_type": "execute_result"
    }
   ],
   "source": [
    "dt.head()"
   ]
  },
  {
   "cell_type": "markdown",
   "id": "cea20cb8-1b57-4004-bfea-ab46ee9e39a7",
   "metadata": {},
   "source": [
    "Видимо да су у табели називи школа дати по врстама, а да по колонама имамо основне податке о упису у тим државама. У колони __Општина__ је име општине у којој се налази школа, __Школа__ означава назив школе са именом места, __Мин. бодова__ представља најмањи број бодова са којим се у тој школи у првом кругу неко уписао, __Укупно места__ означава број одобрених места, а __Преостало места__ је број непопуњених места у тој школи. Називе свих колона можемо да добијемо помоћу `dt.columns`."
   ]
  },
  {
   "cell_type": "code",
   "execution_count": 4,
   "id": "fff47c26-915d-41d5-954c-4edb9dddf351",
   "metadata": {},
   "outputs": [
    {
     "data": {
      "text/plain": [
       "Index(['Општина', 'Школа', 'Мин. бодова', 'Укупно места', 'Преостало места'], dtype='object')"
      ]
     },
     "execution_count": 4,
     "metadata": {},
     "output_type": "execute_result"
    }
   ],
   "source": [
    "dt.columns"
   ]
  },
  {
   "cell_type": "markdown",
   "id": "7101b5f4-4f5e-48a3-a3af-29e67cfcebfa",
   "metadata": {},
   "source": [
    "Вредности које се налазе у одређеној колони се позивају тако што после имена табеле у угластим заграда наведемо име колоне под једноструким или двоструким наводницима. Да бисмо приказали колону са именима држава, написаћемо `dt['Школа']` или `dt[\"Школа\"]`."
   ]
  },
  {
   "cell_type": "code",
   "execution_count": 5,
   "id": "30b9c5c8-3db3-4e79-9a29-f82b032eeae0",
   "metadata": {},
   "outputs": [
    {
     "data": {
      "text/plain": [
       "0                                    Техничка школа, Ада\n",
       "1      Средња школа \"Свети Трифун\" са домом ученика, ...\n",
       "2                       Алексиначка гимназија, Алексинац\n",
       "3             Биотехнолошка школа \"Шуматовац\", Алексинац\n",
       "4      Техничка школа \"Прота Стеван Димитријевић\", Ал...\n",
       "                             ...                        \n",
       "338                               Техничка школа , Шабац\n",
       "339                             Шабачка гимназија, Шабац\n",
       "340                      Гимназија \"Сава Шумановић\", Шид\n",
       "341                   Техничка школа \"Никола Тесла\", Шид\n",
       "342    Економско-трговинска школа \"Јован Цвијић\", Штрпце\n",
       "Name: Школа, Length: 343, dtype: object"
      ]
     },
     "execution_count": 5,
     "metadata": {},
     "output_type": "execute_result"
    }
   ],
   "source": [
    "dt['Школа']"
   ]
  },
  {
   "cell_type": "markdown",
   "id": "6922b12e-0ecb-4b9e-86a4-86bda40fa5c2",
   "metadata": {},
   "source": [
    "Ако хоћете да видите само део ове листе, користите слајсове. Са `[:10]` ћете нпр. добити првих 10, а са `[10:20]` других 10 елемената колоне, а са `[10:0:-1]` првих десет у обрнутом редоследу."
   ]
  },
  {
   "cell_type": "code",
   "execution_count": 6,
   "id": "ec21ca65-8501-4e24-bff8-95af226a747a",
   "metadata": {},
   "outputs": [
    {
     "data": {
      "text/plain": [
       "10                  Средња школа \"Свети Ахилије\", Ариље\n",
       "11    Средња школа \"Вук Караџић\" са домом ученика, Б...\n",
       "12                        Техничка школа , Бајина Башта\n",
       "13                               Средња школа, Барајево\n",
       "14                Средња школа \"Никола Тесла\", Баточина\n",
       "15                             Пољопривредна школа, Бач\n",
       "16               Гимназија \"20. октобар\", Бачка Паланка\n",
       "17    Средња стручна школа \"Др Радивој Увалић\", Бачк...\n",
       "18               Техничка школа \"9. мај\", Бачка Паланка\n",
       "19    Гимназија и економска школа \"Доситеј Обрадовић...\n",
       "Name: Школа, dtype: object"
      ]
     },
     "execution_count": 6,
     "metadata": {},
     "output_type": "execute_result"
    }
   ],
   "source": [
    "dt['Школа'][10:20]"
   ]
  },
  {
   "cell_type": "markdown",
   "id": "4edef112-7be6-47b4-ac6e-1fc227c0f725",
   "metadata": {},
   "source": [
    "### Сортирање"
   ]
  },
  {
   "cell_type": "markdown",
   "id": "eb4161ad-b920-401f-b052-c0b79e97f5aa",
   "metadata": {},
   "source": [
    "Библиотека _pandas_ има прегршт корисних функција за рад са табелама и њиховим колонама. Функција `.sort_values()` сортира све вредности у одређеној колони и прерасподељује садржај осталих колона у складу са тим. Аргумент ове функције је назив колоне по којој хоћемо да сортирамо табелу. Подразумева се да се сортирање ради од најмање до највеће вредности. Уколико нам то не одговара и хоћемо сортирање у супротном смеру, потребно је да наведемо и други аргумент: `ascending=False`. То буквално значи да не сортира у растућем (енгл. _ascending_) редоследу. Примера ради, ако хоћемо да видимо у које су се школе ученици уписивали са најмањим и највећим бројем бодова, можемо да сортирамо вредности по тој колони и погледамо које се школе налази на почетку и крају табеле."
   ]
  },
  {
   "cell_type": "code",
   "execution_count": 7,
   "id": "6e67c879-a079-42cc-bdbc-acc804db2e25",
   "metadata": {},
   "outputs": [
    {
     "data": {
      "text/html": [
       "<div>\n",
       "<style scoped>\n",
       "    .dataframe tbody tr th:only-of-type {\n",
       "        vertical-align: middle;\n",
       "    }\n",
       "\n",
       "    .dataframe tbody tr th {\n",
       "        vertical-align: top;\n",
       "    }\n",
       "\n",
       "    .dataframe thead th {\n",
       "        text-align: right;\n",
       "    }\n",
       "</style>\n",
       "<table border=\"1\" class=\"dataframe\">\n",
       "  <thead>\n",
       "    <tr style=\"text-align: right;\">\n",
       "      <th></th>\n",
       "      <th>Општина</th>\n",
       "      <th>Школа</th>\n",
       "      <th>Мин. бодова</th>\n",
       "      <th>Укупно места</th>\n",
       "      <th>Преостало места</th>\n",
       "    </tr>\n",
       "  </thead>\n",
       "  <tbody>\n",
       "    <tr>\n",
       "      <th>244</th>\n",
       "      <td>Пријепоље</td>\n",
       "      <td>Техничка школа , Пријепоље</td>\n",
       "      <td>28.73</td>\n",
       "      <td>105</td>\n",
       "      <td>52</td>\n",
       "    </tr>\n",
       "    <tr>\n",
       "      <th>69</th>\n",
       "      <td>Вучитрн</td>\n",
       "      <td>Техничка школа \"Никола Тесла\" , Прилужје</td>\n",
       "      <td>30.16</td>\n",
       "      <td>60</td>\n",
       "      <td>44</td>\n",
       "    </tr>\n",
       "    <tr>\n",
       "      <th>272</th>\n",
       "      <td>Сјеница</td>\n",
       "      <td>Техничко - пољопривредна школа са домом ученик...</td>\n",
       "      <td>30.47</td>\n",
       "      <td>75</td>\n",
       "      <td>41</td>\n",
       "    </tr>\n",
       "    <tr>\n",
       "      <th>165</th>\n",
       "      <td>Лесковац</td>\n",
       "      <td>Школа за текстил и дизајн, Лесковац</td>\n",
       "      <td>31.71</td>\n",
       "      <td>90</td>\n",
       "      <td>59</td>\n",
       "    </tr>\n",
       "    <tr>\n",
       "      <th>68</th>\n",
       "      <td>Вршац</td>\n",
       "      <td>Школски центар \"Никола Тесла\", Вршац</td>\n",
       "      <td>33.39</td>\n",
       "      <td>30</td>\n",
       "      <td>7</td>\n",
       "    </tr>\n",
       "    <tr>\n",
       "      <th>...</th>\n",
       "      <td>...</td>\n",
       "      <td>...</td>\n",
       "      <td>...</td>\n",
       "      <td>...</td>\n",
       "      <td>...</td>\n",
       "    </tr>\n",
       "    <tr>\n",
       "      <th>228</th>\n",
       "      <td>Пећ</td>\n",
       "      <td>Економско-трговинска школа \"Милева Вуковић\", Г...</td>\n",
       "      <td>75.44</td>\n",
       "      <td>60</td>\n",
       "      <td>56</td>\n",
       "    </tr>\n",
       "    <tr>\n",
       "      <th>93</th>\n",
       "      <td>Зрењанин</td>\n",
       "      <td>Зрењанинска гимназија, Зрењанин</td>\n",
       "      <td>79.25</td>\n",
       "      <td>30</td>\n",
       "      <td>24</td>\n",
       "    </tr>\n",
       "    <tr>\n",
       "      <th>90</th>\n",
       "      <td>Земун</td>\n",
       "      <td>Школа за ученике оштећеног вида \"Вељко Рамадан...</td>\n",
       "      <td>NaN</td>\n",
       "      <td>12</td>\n",
       "      <td>12</td>\n",
       "    </tr>\n",
       "    <tr>\n",
       "      <th>206</th>\n",
       "      <td>Нови Сад</td>\n",
       "      <td>Школа за основно и средње образовање \"Милан Пе...</td>\n",
       "      <td>NaN</td>\n",
       "      <td>12</td>\n",
       "      <td>12</td>\n",
       "    </tr>\n",
       "    <tr>\n",
       "      <th>263</th>\n",
       "      <td>Савски венац</td>\n",
       "      <td>Школа за оштећене слухом-наглуве \"Стефан Дечан...</td>\n",
       "      <td>NaN</td>\n",
       "      <td>6</td>\n",
       "      <td>6</td>\n",
       "    </tr>\n",
       "  </tbody>\n",
       "</table>\n",
       "<p>343 rows × 5 columns</p>\n",
       "</div>"
      ],
      "text/plain": [
       "          Општина                                              Школа  \\\n",
       "244     Пријепоље                         Техничка школа , Пријепоље   \n",
       "69        Вучитрн           Техничка школа \"Никола Тесла\" , Прилужје   \n",
       "272       Сјеница  Техничко - пољопривредна школа са домом ученик...   \n",
       "165      Лесковац                Школа за текстил и дизајн, Лесковац   \n",
       "68          Вршац               Школски центар \"Никола Тесла\", Вршац   \n",
       "..            ...                                                ...   \n",
       "228           Пећ  Економско-трговинска школа \"Милева Вуковић\", Г...   \n",
       "93       Зрењанин                    Зрењанинска гимназија, Зрењанин   \n",
       "90          Земун  Школа за ученике оштећеног вида \"Вељко Рамадан...   \n",
       "206      Нови Сад  Школа за основно и средње образовање \"Милан Пе...   \n",
       "263  Савски венац  Школа за оштећене слухом-наглуве \"Стефан Дечан...   \n",
       "\n",
       "     Мин. бодова  Укупно места  Преостало места  \n",
       "244        28.73           105               52  \n",
       "69         30.16            60               44  \n",
       "272        30.47            75               41  \n",
       "165        31.71            90               59  \n",
       "68         33.39            30                7  \n",
       "..           ...           ...              ...  \n",
       "228        75.44            60               56  \n",
       "93         79.25            30               24  \n",
       "90           NaN            12               12  \n",
       "206          NaN            12               12  \n",
       "263          NaN             6                6  \n",
       "\n",
       "[343 rows x 5 columns]"
      ]
     },
     "execution_count": 7,
     "metadata": {},
     "output_type": "execute_result"
    }
   ],
   "source": [
    "dt.sort_values('Мин. бодова')"
   ]
  },
  {
   "cell_type": "markdown",
   "id": "3df4534f-433c-468b-ae3e-c37396500552",
   "metadata": {},
   "source": [
    "__Задатак 1__: Сортирате табелу `dt` у по укупном броју места у школама од највеће до најмање вредности."
   ]
  },
  {
   "cell_type": "markdown",
   "id": "4f422fae-620c-4e7f-a6db-58c2a4df84f4",
   "metadata": {},
   "source": [
    "Видимо да има школа где се ученици са тридесетак бодова успешно уписују, али да има и оних такав податак уопште није наведен. Ту се у табели појављује ознака `NaN`. Ако пажљивије погледамо табелу, видећемо да су школе за које немамо податак о минималном броју бодова школе за ученике са тешкоћама у развоју. То је вероватно разлог зашто број бодова није био критеријум по ком су ученици уписивани. "
   ]
  },
  {
   "cell_type": "markdown",
   "id": "9bba5989-7eb4-4a03-b5fc-dea888164842",
   "metadata": {},
   "source": [
    "Табеле са великим бројем редова нису прегледне чак ни када их сортирамо. Зато је пожељно да направимо графички приказ који би нам помогао у тумачењу података. Овде ћемо дати примере два типа дијаграма (стубичасти дијаграм и хистограм) за приказ колона са бројем становника и површином држава. "
   ]
  },
  {
   "cell_type": "markdown",
   "id": "6320dc62-6407-49ec-9e9a-380d4020d81a",
   "metadata": {},
   "source": [
    "Прво дајемо стубичасти дијаграм. Аргументи функције су ознаке стубића (име школе) и дужина стубића (минимални број бодова). Пошто школа у табели има преко 200, тешко је направити прегледан график са свим школама. Зато смо узели само  првих двадесет школа са највећим бројем бодова последњег уписаног ученика."
   ]
  },
  {
   "cell_type": "markdown",
   "id": "04996568-96e2-4954-bf6f-7968c6ba9998",
   "metadata": {},
   "source": [
    "Због прегледности исписа згодније нам је да стубићи буду хоризонтални. Зато користимо функцију `barh()` уместо `bar()`. Пробајте и са `bar()` да видите како би изгледало."
   ]
  },
  {
   "cell_type": "code",
   "execution_count": 8,
   "id": "1cb8b1ea-6665-4113-9b95-d17e01a345fc",
   "metadata": {},
   "outputs": [
    {
     "data": {
      "text/plain": [
       "<BarContainer object of 20 artists>"
      ]
     },
     "execution_count": 8,
     "metadata": {},
     "output_type": "execute_result"
    },
    {
     "data": {
      "image/png": "[encoded data removed]",
      "text/plain": [
       "<Figure size 432x288 with 1 Axes>"
      ]
     },
     "metadata": {
      "needs_background": "light"
     },
     "output_type": "display_data"
    }
   ],
   "source": [
    "spd=dt.sort_values('Мин. бодова', ascending=False)   # sortiramo tabelu po min. broju bodova i dodeljujemo je novoj tabeli\n",
    "spd20=spd[:20]                                       # zbog preglednosti, pomoću slajsa, izdvajamo samo prvih 20 redova\n",
    "plt.barh(spd20['Школа'],spd20['Мин. бодова'],)       # crtamo horizontalni stubičasti dijagram "
   ]
  },
  {
   "cell_type": "markdown",
   "id": "37747e19-b69e-4027-aa87-240a7138d584",
   "metadata": {},
   "source": [
    "__Задатак 2__: Напишите кôд који исписује имена десет школа са најмањим бројем преосталих места."
   ]
  },
  {
   "cell_type": "markdown",
   "id": "f17c57c2-2767-4c63-99fc-3a14ad956c7b",
   "metadata": {},
   "source": [
    "Други важан тип графикона за приказ расподеле података је хистограм. Он нам приказује колико се пута у одређеном низу појављује вредност из тачно одређених интервала вредности. На пример, хистограм може да нам прикаже број школа по интервалима вредности за број преосталих места. Функција `.hist()` дели интервал од најмање до највеће вредности на десет једнаких под-интервала уколико не наведемо конкретан број интервала као други аргумент функције и распон одакле докле желимо хистограм као трећи аргумент. Сада ћемо приказтаи само ову основну варијанту са једним аргуметном. Нешто касније ћете видети и како то изгледа са три."
   ]
  },
  {
   "cell_type": "code",
   "execution_count": 9,
   "id": "a43b5969-5b18-4eff-98ba-5c30d2b6f181",
   "metadata": {},
   "outputs": [
    {
     "data": {
      "image/png": "[encoded data removed]",
      "text/plain": [
       "<Figure size 432x288 with 1 Axes>"
      ]
     },
     "metadata": {
      "needs_background": "light"
     },
     "output_type": "display_data"
    }
   ],
   "source": [
    "plt.hist(dt['Преостало места'])\n",
    "plt.grid()                         # crtanje mreže na grafiku"
   ]
  },
  {
   "cell_type": "markdown",
   "id": "abb2a821-0676-44df-8801-bec437e16a11",
   "metadata": {},
   "source": [
    "### Филтрирање табеле"
   ]
  },
  {
   "cell_type": "markdown",
   "id": "259e962f-9695-4128-bff3-989a6db3aa62",
   "metadata": {},
   "source": [
    "Филтрирање значи да од целе табеле желимо да издвојимо само оне редове који нас интересују. За филтрирање података у табели користимо критеријуме, односно логичке исказе као што је нпр. `dt['Општина']==\"Крагујевац\"`. Овде проверавамо које су вредности у колони `dt['Општина']` једнаке стрингу `\"Крагујевац\"`. У угласте заграде после назива табеле треба унети тражени критеријум. На тај начин од целе почетне табеле издвајамо само онај део табеле где је критеријум испуњен."
   ]
  },
  {
   "cell_type": "code",
   "execution_count": 10,
   "id": "00f5a26f-135d-40cb-872f-2119738a026d",
   "metadata": {},
   "outputs": [
    {
     "data": {
      "text/html": [
       "<div>\n",
       "<style scoped>\n",
       "    .dataframe tbody tr th:only-of-type {\n",
       "        vertical-align: middle;\n",
       "    }\n",
       "\n",
       "    .dataframe tbody tr th {\n",
       "        vertical-align: top;\n",
       "    }\n",
       "\n",
       "    .dataframe thead th {\n",
       "        text-align: right;\n",
       "    }\n",
       "</style>\n",
       "<table border=\"1\" class=\"dataframe\">\n",
       "  <thead>\n",
       "    <tr style=\"text-align: right;\">\n",
       "      <th></th>\n",
       "      <th>Општина</th>\n",
       "      <th>Школа</th>\n",
       "      <th>Мин. бодова</th>\n",
       "      <th>Укупно места</th>\n",
       "      <th>Преостало места</th>\n",
       "    </tr>\n",
       "  </thead>\n",
       "  <tbody>\n",
       "    <tr>\n",
       "      <th>130</th>\n",
       "      <td>Крагујевац</td>\n",
       "      <td>Прва техничка школа, Крагујевац</td>\n",
       "      <td>55.23</td>\n",
       "      <td>30</td>\n",
       "      <td>22</td>\n",
       "    </tr>\n",
       "    <tr>\n",
       "      <th>131</th>\n",
       "      <td>Крагујевац</td>\n",
       "      <td>Средња стручна школа, Крагујевац</td>\n",
       "      <td>41.35</td>\n",
       "      <td>150</td>\n",
       "      <td>101</td>\n",
       "    </tr>\n",
       "    <tr>\n",
       "      <th>132</th>\n",
       "      <td>Крагујевац</td>\n",
       "      <td>Трговинско-угоститељска школа \"Тоза Драговић\",...</td>\n",
       "      <td>42.16</td>\n",
       "      <td>180</td>\n",
       "      <td>89</td>\n",
       "    </tr>\n",
       "  </tbody>\n",
       "</table>\n",
       "</div>"
      ],
      "text/plain": [
       "        Општина                                              Школа  \\\n",
       "130  Крагујевац                    Прва техничка школа, Крагујевац   \n",
       "131  Крагујевац                   Средња стручна школа, Крагујевац   \n",
       "132  Крагујевац  Трговинско-угоститељска школа \"Тоза Драговић\",...   \n",
       "\n",
       "     Мин. бодова  Укупно места  Преостало места  \n",
       "130        55.23            30               22  \n",
       "131        41.35           150              101  \n",
       "132        42.16           180               89  "
      ]
     },
     "execution_count": 10,
     "metadata": {},
     "output_type": "execute_result"
    }
   ],
   "source": [
    "dt[dt['Општина']==\"Крагујевац\"]"
   ]
  },
  {
   "cell_type": "markdown",
   "id": "7a88248e-1470-4ece-af9d-8efe6b013833",
   "metadata": {},
   "source": [
    "Слично можемо да издвојимо све школе у којима је остало више од стотину слободних места. Шта мислите колико их има?"
   ]
  },
  {
   "cell_type": "code",
   "execution_count": 11,
   "id": "f5cf3f4c-be51-4d7c-9acd-651c8a028b04",
   "metadata": {},
   "outputs": [
    {
     "data": {
      "text/html": [
       "<div>\n",
       "<style scoped>\n",
       "    .dataframe tbody tr th:only-of-type {\n",
       "        vertical-align: middle;\n",
       "    }\n",
       "\n",
       "    .dataframe tbody tr th {\n",
       "        vertical-align: top;\n",
       "    }\n",
       "\n",
       "    .dataframe thead th {\n",
       "        text-align: right;\n",
       "    }\n",
       "</style>\n",
       "<table border=\"1\" class=\"dataframe\">\n",
       "  <thead>\n",
       "    <tr style=\"text-align: right;\">\n",
       "      <th></th>\n",
       "      <th>Општина</th>\n",
       "      <th>Школа</th>\n",
       "      <th>Мин. бодова</th>\n",
       "      <th>Укупно места</th>\n",
       "      <th>Преостало места</th>\n",
       "    </tr>\n",
       "  </thead>\n",
       "  <tbody>\n",
       "    <tr>\n",
       "      <th>131</th>\n",
       "      <td>Крагујевац</td>\n",
       "      <td>Средња стручна школа, Крагујевац</td>\n",
       "      <td>41.35</td>\n",
       "      <td>150</td>\n",
       "      <td>101</td>\n",
       "    </tr>\n",
       "    <tr>\n",
       "      <th>200</th>\n",
       "      <td>Нови Сад</td>\n",
       "      <td>Пољопривредна школа са домом ученика \"Футог\", ...</td>\n",
       "      <td>43.94</td>\n",
       "      <td>180</td>\n",
       "      <td>112</td>\n",
       "    </tr>\n",
       "    <tr>\n",
       "      <th>213</th>\n",
       "      <td>Палилула (Београд)</td>\n",
       "      <td>Железничка техничка школа, Београд (Палилула)</td>\n",
       "      <td>50.27</td>\n",
       "      <td>210</td>\n",
       "      <td>111</td>\n",
       "    </tr>\n",
       "    <tr>\n",
       "      <th>310</th>\n",
       "      <td>Темерин</td>\n",
       "      <td>Средња школа \"Лукијан Мушицки\", Темерин</td>\n",
       "      <td>37.87</td>\n",
       "      <td>180</td>\n",
       "      <td>104</td>\n",
       "    </tr>\n",
       "    <tr>\n",
       "      <th>335</th>\n",
       "      <td>Чукарица</td>\n",
       "      <td>Хемијско-прехрамбена технолошка школа, Београд...</td>\n",
       "      <td>40.56</td>\n",
       "      <td>210</td>\n",
       "      <td>108</td>\n",
       "    </tr>\n",
       "  </tbody>\n",
       "</table>\n",
       "</div>"
      ],
      "text/plain": [
       "                Општина                                              Школа  \\\n",
       "131          Крагујевац                   Средња стручна школа, Крагујевац   \n",
       "200            Нови Сад  Пољопривредна школа са домом ученика \"Футог\", ...   \n",
       "213  Палилула (Београд)      Железничка техничка школа, Београд (Палилула)   \n",
       "310             Темерин            Средња школа \"Лукијан Мушицки\", Темерин   \n",
       "335            Чукарица  Хемијско-прехрамбена технолошка школа, Београд...   \n",
       "\n",
       "     Мин. бодова  Укупно места  Преостало места  \n",
       "131        41.35           150              101  \n",
       "200        43.94           180              112  \n",
       "213        50.27           210              111  \n",
       "310        37.87           180              104  \n",
       "335        40.56           210              108  "
      ]
     },
     "execution_count": 11,
     "metadata": {},
     "output_type": "execute_result"
    }
   ],
   "source": [
    "dt[dt['Преостало места']>100]"
   ]
  },
  {
   "cell_type": "markdown",
   "id": "13b002f8-04b7-4aa2-a6ae-7b84e05fb974",
   "metadata": {},
   "source": [
    "__Задатак 3__: Напишите кôд који издваја редове табеле `dt` где је број преосталих места мањи или једнак 5."
   ]
  },
  {
   "cell_type": "markdown",
   "id": "6ae179fb-59e8-404d-9820-ee3eb1b732c2",
   "metadata": {},
   "source": [
    "## Статистички и графички приказ табеларних података"
   ]
  },
  {
   "cell_type": "markdown",
   "id": "663976e8-2df5-49fa-b52e-c5b6c1995124",
   "metadata": {},
   "source": [
    "У табели типа _dataframe_ можемо да имамо различите типове података. Битно је само да су у једној колони сви подаци истог типа. Два најважнија типа података, заправо групе типова су номинални (или категоријални, како их понекад зовемо) и нумерички подаци. Номинални подаци означавају нека имена, називе или кратке текстуалне описе. Имена општина представљају номиналне податке. Већина номиналних података су стрингови који означавају различите објекте. Једина статистика коју можемо да радимо са номиналним подацима јесте да пребројимо колико их има, тј. да видимо колико се често појављују."
   ]
  },
  {
   "cell_type": "markdown",
   "id": "6d273423-4edb-4f61-91f9-04c1ef0ec42f",
   "metadata": {},
   "source": [
    "У табели `dt` имамо колону са именом општине у којој се школа налази. Ако бисмо пребројали колико се пута појављују ови подаци, видели бисмо колико различитих школа имамо у којој општини. Библиотека _pandas_ нам омогућава да то радимо помоћу функције `.value_counts()` коју применимо на одговарајућу колону. "
   ]
  },
  {
   "cell_type": "code",
   "execution_count": 12,
   "id": "63613eb5-8462-428a-a339-b24590d39a91",
   "metadata": {},
   "outputs": [
    {
     "name": "stdout",
     "output_type": "stream",
     "text": [
      "Нови Сад       10\n",
      "Лесковац        8\n",
      "Суботица        7\n",
      "Зрењанин        6\n",
      "Панчево         6\n",
      "               ..\n",
      "Кањижа          1\n",
      "Ириг            1\n",
      "Зубин Поток     1\n",
      "Звечан          1\n",
      "Штрпце          1\n",
      "Name: Општина, Length: 165, dtype: int64\n"
     ]
    }
   ],
   "source": [
    "vc=dt['Општина'].value_counts()\n",
    "print(vc)"
   ]
  },
  {
   "cell_type": "markdown",
   "id": "33961a70-409a-496b-b40c-00f3c7668b54",
   "metadata": {},
   "source": [
    "Функција `.value_counts()` враћа податак типа _Series_, односно индексирани низ вредности који дефинише _pandas_ библиотека. Индексима, односно називима појединачних елемената низа приступамо помоћу `<име серије>.index`, а вредностима елемената низа помоћу `<име серије>.values`. Конкретно, имена општина из серије `vc` позивамо са `vc.index`, док вредности које смо добили пребројавањем позивамо са `vc.values`."
   ]
  },
  {
   "cell_type": "code",
   "execution_count": 13,
   "id": "4ca07723-40d2-4859-aad9-87fb4911c9d0",
   "metadata": {},
   "outputs": [
    {
     "data": {
      "text/plain": [
       "Index(['Нови Сад', 'Лесковац', 'Суботица', 'Зрењанин', 'Панчево', 'Медијана',\n",
       "       'Сомбор', 'Врање', 'Приштина', 'Крушевац',\n",
       "       ...\n",
       "       'Костолац', 'Косјерић', 'Ковачица', 'Кнић', 'Кладово', 'Кањижа', 'Ириг',\n",
       "       'Зубин Поток', 'Звечан', 'Штрпце'],\n",
       "      dtype='object', length=165)"
      ]
     },
     "execution_count": 13,
     "metadata": {},
     "output_type": "execute_result"
    }
   ],
   "source": [
    "vc.index"
   ]
  },
  {
   "cell_type": "markdown",
   "id": "28207dda-bc57-484a-a89d-0012fbdffc21",
   "metadata": {},
   "source": [
    "__Задатак 4__: Нацртајте стубичасти дијаграм који приказује број школа по општинама. Да би ознаке биле прегледне, узмите само неколико највећих вредности."
   ]
  },
  {
   "cell_type": "markdown",
   "id": "fd75fb52-9284-4342-8971-153da01b3773",
   "metadata": {},
   "source": [
    "За разлику од номиналних вредности, нумеричке могу да се пореде међусобно по величини. Са бројевима могу да се раде и рачунске операције. Због тога су могућности за обраду и анализу нумеричких низова много веће него за низове номиналних података. Наш основни задатак је да цео низ података што једноставније и разумљивије представимо. Низ података често поједностављено приказујемо помоћу карактеристичних вредности, као што је нпр. средња вредност. Други важан начин је да цео низ података прикажемо графички како бисмо податке могли да \"видимо\"."
   ]
  },
  {
   "cell_type": "markdown",
   "id": "5ecafb68-083f-4ce1-9a32-abd34082b5b1",
   "metadata": {},
   "source": [
    "### Описивање низова података преко карактеристичних вредности"
   ]
  },
  {
   "cell_type": "markdown",
   "id": "a09cbd65-359e-49c7-ad8d-3b4ea20c19f4",
   "metadata": {},
   "source": [
    "За рачунање средње вредности се користи _pandas_ функција `.mean()` која се примењује на нумеричку колону у табели. Користећи табелу израчунаћемо средњу вредност броја преосталих места по школама."
   ]
  },
  {
   "cell_type": "code",
   "execution_count": 14,
   "id": "6e1b6f6f-ad3f-490f-a53b-3e4d73c71899",
   "metadata": {},
   "outputs": [
    {
     "data": {
      "text/plain": [
       "38.221574344023324"
      ]
     },
     "execution_count": 14,
     "metadata": {},
     "output_type": "execute_result"
    }
   ],
   "source": [
    "dt['Преостало места'].mean()"
   ]
  },
  {
   "cell_type": "markdown",
   "id": "15334186-8c7d-490b-84aa-cc2c2d275158",
   "metadata": {},
   "source": [
    "Средња вредност броја преосталих места је приближно 38. Друга статистичка мера којом често описујемо низ бројева је медијана. Њу рачунамо помоћу _pandas_ функције `.median()`."
   ]
  },
  {
   "cell_type": "markdown",
   "id": "d63ff408-3dd1-4925-a6a8-aaf517c172a9",
   "metadata": {},
   "source": [
    "> __Медијана__ је математичка функција која нам даје средишњу вредност за низ који је сортиран по величини. Она дели низ на два дела са истим бројем елемената. Ако низ, на пример, садржи висине 101 ученика, медијана нам даје висину 51. највишег ученика. Од њега има 50 виших и 50 нижих, док је он у самој средини. Ако имамо паран број ученика, онда нема ученика који је баш у средини па се медијана рачуна мало другачије: као средња вредност висине првог елемента испод и првог изнад те средине. То значи да је медијана низа од 100 бројева, средња вредност 50. и 51. највеће вредности овог низа. "
   ]
  },
  {
   "cell_type": "code",
   "execution_count": 15,
   "id": "1018ed2a-34cb-402a-a7cd-025d33751659",
   "metadata": {},
   "outputs": [
    {
     "data": {
      "text/plain": [
       "34.0"
      ]
     },
     "execution_count": 15,
     "metadata": {},
     "output_type": "execute_result"
    }
   ],
   "source": [
    "dt['Преостало места'].median()"
   ]
  },
  {
   "cell_type": "markdown",
   "id": "bc6f2b4d-0c1b-4e05-886d-f240647fd3b0",
   "metadata": {},
   "source": [
    "Уочите колика је разлика између средње вредности и медијане за број преосталих места. Средња вредност је углавном већа код свих низова података где има много малих и мало великих вредности."
   ]
  },
  {
   "cell_type": "markdown",
   "id": "81b3a0b1-d8f9-4998-80dc-f9372602fd0b",
   "metadata": {},
   "source": [
    "Погледајте хистограм броја преосталих места по школама. Највише је оних где има двадесетак слободних места које видимо као високе стубиће са леве стране, док је са десне стране мањи број школа са много слободних места. Не улазећи даље у тумачење података, хоћемо само да покажемо да се средња вредност и медијана разликују. На графикону доле, црвеном линијом је обележена медијана, а наранџастом средња вредност. Пробајте сами да откријете шта ради која линија у програму."
   ]
  },
  {
   "cell_type": "code",
   "execution_count": 16,
   "id": "fad7bf90-028e-4e3c-92f0-a3fbe45d2206",
   "metadata": {},
   "outputs": [
    {
     "data": {
      "image/png": "[encoded data removed]",
      "text/plain": [
       "<Figure size 432x288 with 1 Axes>"
      ]
     },
     "metadata": {
      "needs_background": "light"
     },
     "output_type": "display_data"
    }
   ],
   "source": [
    "mArea=dt['Преостало места'].mean()\n",
    "mdArea=dt['Преостало места'].median()\n",
    "plt.hist(dt['Преостало места'],12,range=(0,120))   # interval od 0 do 119 delimo na 12 podintervala\n",
    "plt.grid()\n",
    "plt.vlines(mArea,0,60,colors='orange')\n",
    "plt.vlines(mdArea,0,60,colors='red');"
   ]
  },
  {
   "cell_type": "markdown",
   "id": "2343acec-3f82-4f02-ad6c-27cb8e95d539",
   "metadata": {},
   "source": [
    "__Задатак 5__: Одредите средњу вредност и медијану за минимални број бодова по школама."
   ]
  },
  {
   "cell_type": "markdown",
   "id": "d4a20e7c-9ce3-4be1-8300-43cf1b7e0feb",
   "metadata": {},
   "source": [
    "__Задатак 6__: Нацртајте хистограм минималног броја бодова по школама. "
   ]
  }
 ],
 "metadata": {
  "kernelspec": {
   "display_name": "Python 3",
   "language": "python",
   "name": "python3"
  },
  "language_info": {
   "codemirror_mode": {
    "name": "ipython",
    "version": 3
   },
   "file_extension": ".py",
   "mimetype": "text/x-python",
   "name": "python",
   "nbconvert_exporter": "python",
   "pygments_lexer": "ipython3",
   "version": "3.9.1"
  }
 },
 "nbformat": 4,
 "nbformat_minor": 5
}
