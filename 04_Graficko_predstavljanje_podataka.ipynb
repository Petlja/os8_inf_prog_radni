{
 "cells": [
  {
   "cell_type": "markdown",
   "id": "64840422-9c3a-428a-869a-0b231cbacf85",
   "metadata": {},
   "source": [
    "# Графичко представљање података"
   ]
  },
  {
   "cell_type": "markdown",
   "id": "3b6768f1-e5cd-4461-9cd5-c21556f86a5d",
   "metadata": {},
   "source": [
    "Велику количину података није лако представити. Због тога се подаци организују у табеле, групишу, пребројавају... Зато се раде обрада и анализа података. Да би овај процес био једноставнији и разумљивији потребно је да \"видимо\" податке. Графичко представљање података постоји већ вековима, али никада није било тако важно као данас када је количина података са којом се срећемо неупоредиво већа него раније. Графичко приказивање података, или визуелизација, има задатак да верно прикаже податке и истакне оно што сматрамо најважнијим. Иако ова два захтева могу да буду супротстављена, добра визуелизација мора да испуни оба."
   ]
  },
  {
   "cell_type": "markdown",
   "id": "5087ef30-124a-43d4-a3f5-911cc9a36267",
   "metadata": {},
   "source": [
    "Да бисмо податке графички приказали у Пајтону потребно је да их организујемо у низове или табеле."
   ]
  },
  {
   "cell_type": "markdown",
   "id": "5813dd6a-3a55-49de-bf87-7381e4ad61c6",
   "metadata": {},
   "source": [
    "## Коришћење библиотеке _matplotlib.pyplot_ за визуелизацију"
   ]
  },
  {
   "cell_type": "markdown",
   "id": "22309e2b-9901-4687-ac64-e7318c174202",
   "metadata": {},
   "source": [
    "Стандардна Пајтонова библиотека нема функције за цртање графика. Зато је неопходно да увеземо неку која те функције има. Најчешће се за визуелизацију увози библиотека _matplotlib.pyplot_. Због тога многи Пајтон програми на самом почетку имају `import matplotlib.pyplot as plt`, што значи да одмах увозимо тражену библиотеку компликованог имена уз напомену да ћемо је убудуће позивати преко скраћеног имена `plt`. "
   ]
  },
  {
   "cell_type": "code",
   "execution_count": 1,
   "id": "03d5252c-e0dd-4964-9664-661e009c9409",
   "metadata": {},
   "outputs": [],
   "source": [
    "import matplotlib.pyplot as plt"
   ]
  },
  {
   "cell_type": "markdown",
   "id": "c6bb1323-9cb4-46bd-93e9-336574833cec",
   "metadata": {},
   "source": [
    "Ова библиотека има огроман број различитих функција и опција за приказивање резултата. (Пробајте `dir(plt)` да видите шта све у библиотеци постоји.) Ми ћемо овде приказати само неколико најчешће коришћених."
   ]
  },
  {
   "cell_type": "markdown",
   "id": "298be84f-b908-4066-8a7d-6415bbbde1d9",
   "metadata": {},
   "source": [
    "## Линијски, тачкасти и стубичасти дијаграми"
   ]
  },
  {
   "cell_type": "markdown",
   "id": "c8f20388-63b2-4878-a0f6-1de0a5fa6d1c",
   "metadata": {},
   "source": [
    "Екран рачунара, као и папир на ком цртамо графиконе, има две димензије које користимо за потребе визуелизације. Где год да ставимо тачку, она има две координате: _x_ по хоризонтали и _y_ по вертикали. Како год да приказујемо податке, морамо да их сведемо на две димензије и да цео графикон прикажемо као скуп тачака у равни. Због тога су најједноставнији они графикони где низ тачака одређују два низа координата, један за _x_, други за _y_-осу."
   ]
  },
  {
   "cell_type": "markdown",
   "id": "edb8dad4-5195-4e0c-bccf-85520e2ec247",
   "metadata": {},
   "source": [
    "У следећем примеру ћемо помоћу функције `.scatter()` приказати тачке одређене са два низа координата: `x=[3,4,5]` и `y=[4,2,1]`. Приметите како за низове координата користимо листе. Тако је најједноставније."
   ]
  },
  {
   "cell_type": "code",
   "execution_count": 2,
   "id": "a15aba8c-09b0-406a-b02d-71faf3c35259",
   "metadata": {},
   "outputs": [
    {
     "data": {
      "text/plain": [
       "<matplotlib.collections.PathCollection at 0x2167c235c40>"
      ]
     },
     "execution_count": 2,
     "metadata": {},
     "output_type": "execute_result"
    },
    {
     "data": {
      "image/png": "[encoded data removed]",
      "text/plain": [
       "<Figure size 432x288 with 1 Axes>"
      ]
     },
     "metadata": {
      "needs_background": "light"
     },
     "output_type": "display_data"
    }
   ],
   "source": [
    "x=[3,4,5]\n",
    "y=[4,2,1]\n",
    "plt.scatter(x,y)"
   ]
  },
  {
   "cell_type": "markdown",
   "id": "5d1f0623-d607-44a0-be9c-fb899bba24a4",
   "metadata": {},
   "source": [
    "Вероватно примећујете да координатни систем не почиње од нуле. Функција сама подешава границе тако да максимално искорити простор који је на располагању. То можете да промените сами помоћу функција `.xlim()` и `.ylim()`. Ставите, на пример,\n",
    "```\n",
    "plt.xlim([0,6])\n",
    "plt.ylim([0,6])\n",
    "```\n",
    "одмах после линије у којој је `.scatter()` функција."
   ]
  },
  {
   "cell_type": "markdown",
   "id": "b88357fa-a7e0-4ad6-bb5c-871f00f6c99e",
   "metadata": {},
   "source": [
    "> Напомена: Осим што цртају график, графичке функције, као и било које друге функције, врећају одговарајућу вредност. У претходном примеру смо видели да је изнад графика исписан текст `<matplotlib.collections.PathCollection at 0x1866f81a460>`. Та нам вредност као повратна информација углавном није потребна, а често квари изглед графика. Ако желимо да функција не исписује ту вредност, на крају реда који исцртава график ставите тачка-зарез `;`. У наредним примерима ћемо овако завршавати ове линије кода како не би било непотребног исписа."
   ]
  },
  {
   "cell_type": "markdown",
   "id": "eda9bf2e-3a02-40f0-ba4b-5cfee50a365e",
   "metadata": {},
   "source": [
    "Претходни пример је вероватно превише једноставан па ћемо дати један сложенији. Ми у пракси ретко кад укуцавамо све вредности које треба приказати на графику. Податке за график или учитавамо из неког фајла или их рачунамо. Овде ћемо дати пример са рачунањем вредности. Конкретно, узећемо све целобројне вредности од -5 до 5 за _x_ координату, а њихове квадрате за _y_ координату.\n",
    "\n",
    "Начин на који записујемо све бројаве од -5 до 5 вам је можда необичан, али не желимо да куцамо свих 11 бројева. Зато користимо колекцију типа `range()` која даје све те бројеве, да би је потом претворили у листу помоћу функције `list()`. За другу координату рачунамо вредности користећи _list comprehension_ конструкцију. Унутар угластих заграда пише да у листу уносимо квадрате броја `t` за свако `t` из листе `x`. На крају прикажемо податке на графику као што смо радили и у претходном примеру. "
   ]
  },
  {
   "cell_type": "code",
   "execution_count": 3,
   "id": "d6b3f9dc-cd99-4851-861a-c0b4efb61052",
   "metadata": {},
   "outputs": [
    {
     "data": {
      "image/png": "[encoded data removed]",
      "text/plain": [
       "<Figure size 432x288 with 1 Axes>"
      ]
     },
     "metadata": {
      "needs_background": "light"
     },
     "output_type": "display_data"
    }
   ],
   "source": [
    "x=list(range(-5,6))\n",
    "y=[t**2 for t in x]\n",
    "plt.scatter(x,y);"
   ]
  },
  {
   "cell_type": "markdown",
   "id": "966c756b-191c-48c6-8391-3d5cb1655186",
   "metadata": {},
   "source": [
    "> Ако желите да се на графику појави мрежа хоризонталних и вертикалних линија за вредности које су већ означене на _x_ и _y_ оси, после линије која исцртава график додајте линију која црта мрежу: `plt.grid()`."
   ]
  },
  {
   "cell_type": "markdown",
   "id": "14f6ae63-36d8-4687-89dc-15fb7bcd3900",
   "metadata": {},
   "source": [
    "Тачкасти дијаграми су стандарни начин приказа података који су добијени мерењем. Ипак, често се уместо тачкастих користе линијски дијаграми који суседне тачке у низу повезују правим линијама, односно дужима. За овај тип дијаграма користимо функцију `.plot()`. Да видимо сад исте оне податке од малопре на линијском дијаграму. "
   ]
  },
  {
   "cell_type": "code",
   "execution_count": 4,
   "id": "fd3aec31-4feb-4999-aef9-5a2ecf5ffc33",
   "metadata": {},
   "outputs": [
    {
     "data": {
      "image/png": "[encoded data removed]",
      "text/plain": [
       "<Figure size 432x288 with 1 Axes>"
      ]
     },
     "metadata": {
      "needs_background": "light"
     },
     "output_type": "display_data"
    }
   ],
   "source": [
    "x=list(range(-5,6))\n",
    "y=[t**2 for t in x]\n",
    "plt.plot(x,y)\n",
    "plt.grid()"
   ]
  },
  {
   "cell_type": "markdown",
   "id": "49d86341-46b0-4e4e-bc6a-14e26502723a",
   "metadata": {},
   "source": [
    "Овако смо добили изломљену криву линију која личи на параболу. Ако хоћете да буде мање изломљена, узмите више тачака из интервала од -5 до 5."
   ]
  },
  {
   "cell_type": "markdown",
   "id": "2b865f0c-1cc2-406c-b81e-d3aa0024efdb",
   "metadata": {},
   "source": [
    "__Задатак 1__: Нацртајте линијски дијаграм са вредностима функције $1/x$ за $x\\in\\{1,2,3,4,5,6\\}$."
   ]
  },
  {
   "cell_type": "markdown",
   "id": "d02fbabe-811f-4582-b02f-31b3db0a2b50",
   "metadata": {},
   "source": [
    "Некад имамо само један низ података који хоћемо да прикажемо графички. На пример, број поена који је дао Стеф Кари у финалној серији НБА лиге (2022. године): 34, 29, 31, 43, 16, 34. Како да прикажемо ове податке кад имамо само једну координату? Истина је, заправо, да имамо и другу, само што није експлицитно наведена. То је редни број утакмице. Пошто података о броју поена има шест, онда су одговарајуће вредности за _x_-координату бројеви од 1 до 6. "
   ]
  },
  {
   "cell_type": "code",
   "execution_count": 5,
   "id": "8e51f39f-483e-41f8-9556-510bfc7b900b",
   "metadata": {},
   "outputs": [
    {
     "data": {
      "image/png": "[encoded data removed]",
      "text/plain": [
       "<Figure size 432x288 with 1 Axes>"
      ]
     },
     "metadata": {
      "needs_background": "light"
     },
     "output_type": "display_data"
    }
   ],
   "source": [
    "pts=[34,29,31,43,16,34]\n",
    "plt.bar([1,2,3,4,5,6],pts);"
   ]
  },
  {
   "cell_type": "markdown",
   "id": "504765d9",
   "metadata": {},
   "source": [
    "За разлику од тачкастих и линијских дијаграма где вредности за _x_ и _y_ координате могу да имају било које нецелобројне вредности, стубичне дијаграме обично користимо за податке који на _x_-оси имају узастопне целобројне вредности, редне бројеве или стрингове као називе категорија. Идеја стубичног дијагарама је да омогући лако поређење између вредности у низу. То се најбоље види ако су разлике између _x_-вредности суседних стубића свугде исте. Због тога су редни бројеви или називи категорија идеални за ознаке на _x_-оси."
   ]
  },
  {
   "cell_type": "markdown",
   "id": "6ec208e5-dc51-4d78-90e4-c070c541ad02",
   "metadata": {},
   "source": [
    "Уместо бројева од 1 до 6 можемо да ставимо одговарајућа имена категорија, нпр. \"прва\", \"друга\", ..., \"шеста\" утакмица. Графикон ће и тада изгледати исто, само ће ознаке на _x_-оси бити другачије."
   ]
  },
  {
   "cell_type": "code",
   "execution_count": 6,
   "id": "0602d1c4",
   "metadata": {},
   "outputs": [
    {
     "data": {
      "image/png": "[encoded data removed]",
      "text/plain": [
       "<Figure size 432x288 with 1 Axes>"
      ]
     },
     "metadata": {
      "needs_background": "light"
     },
     "output_type": "display_data"
    }
   ],
   "source": [
    "labels=['прва','друга','трећа','четврта','пета','шеста']\n",
    "plt.bar(labels,pts);"
   ]
  },
  {
   "cell_type": "markdown",
   "id": "ce49a757-fb64-42dd-b40d-d82710d6d501",
   "metadata": {},
   "source": [
    "__Задатак 2__: Нацртајте стубичасти дијаграм за број дана у сваком месецу у (не-преступној) години."
   ]
  },
  {
   "cell_type": "markdown",
   "id": "784d0182",
   "metadata": {},
   "source": [
    "Секторски дијаграми (или \"питице\") могу да прикажу исте ове податке. Они површину круга деле на делове (секторе) чије су површине сразмерне вредностима у низу. Овај тип дијаграма се сматра атрактивним иако има лошу прегледност и слабе могућности поређења вредности у низу. Секторске дијаграме не би требало користити када је потребно да се лако упореде вредности у низу или да се уочи тренд промене. Ови дијаграми имају највише смисла када приказују удео одређених вредности у укупном броју. На пример, да прикажу удео укупног броја поена по утакмицама који је Стеф Кари дао у финалној серији."
   ]
  },
  {
   "cell_type": "code",
   "execution_count": 7,
   "id": "6b054ef1",
   "metadata": {},
   "outputs": [
    {
     "data": {
      "image/png": "[encoded data removed]",
      "text/plain": [
       "<Figure size 432x288 with 1 Axes>"
      ]
     },
     "metadata": {},
     "output_type": "display_data"
    }
   ],
   "source": [
    "plt.pie(pts,labels=labels,autopct='%.1f%%',radius=2);"
   ]
  },
  {
   "cell_type": "markdown",
   "id": "04f7fc6b-90fd-423a-9013-e70319a65471",
   "metadata": {},
   "source": [
    "Параметар `autopct` одређује да ли ће се и на који начин приказати проценат учешћа сваке вредности у укупном збиру. Вредност `'%.1f%%'` коју придружујемо том параметру говори функцији `.pie()` да за сваку вредност из низа `pts` израчуна проценат учешћа у збиру, прикаже га са тачно једном цифром иза децималне тачке и претвори тај резултат у стринг који се завршава знаком `%`. Коначно, функција ову вредност приказује унутар одговарајућег сектора. Овај формат записа заиста не морате да памтите. Кад вам затреба, увек можете да се вратите на овај пример или неки сличан и видите како је ту урађено."
   ]
  },
  {
   "cell_type": "markdown",
   "id": "6a0be269-2322-4890-a433-a8e7b693f445",
   "metadata": {},
   "source": [
    "Параметар `radius` одређује величину секторског дијаграма. Овде смо ставили вредност 2. Слободно пробајте са другим вредностима да видите како график изгледа. "
   ]
  },
  {
   "cell_type": "markdown",
   "id": "90cf5893-07eb-4d13-a611-dd7a245d03cb",
   "metadata": {},
   "source": [
    "__Задатак 3__: Нацртајте секторски дијаграм за вредности `[1/3,1/4,1/5,1/6,1/20]` са ознакама `[\"1/3\",\"1/4\",\"1/5\",\"1/6\",\"1/20\"]`."
   ]
  },
  {
   "cell_type": "markdown",
   "id": "24b2f16a-71af-4d81-bbd4-ceb7e2a5f18d",
   "metadata": {},
   "source": [
    "## Хистограм"
   ]
  },
  {
   "cell_type": "markdown",
   "id": "c4cdbba7",
   "metadata": {},
   "source": [
    "Хистограм је графички приказ расподеле бројачаних података у одређеном скупу. Идеја хистограма је да се распон од најмањег до највећег броја у скупу подели на интервале исте ширине, да се преброји колико бројева упада у који од тих интервала и да се, коначно, резултат тог пребројавања прикаже као стубични дијаграм по тим интервалима."
   ]
  },
  {
   "cell_type": "markdown",
   "id": "659d8e3f",
   "metadata": {},
   "source": [
    "Иако хистограм изгледа као стубични дијаграм, постоје разлике. Док се стубични дијаграм приказује за низ бројева на _x_-оси, код хистограма се стубићи придружују интервалима. Осим тога, хистограм пре приказивања ради статистичку обраду података, односно дељење на интервале и пребројавање одговарајућих вредности."
   ]
  },
  {
   "cell_type": "markdown",
   "id": "6a99bc10",
   "metadata": {},
   "source": [
    "Да бисмо добили неке случајне вредности бројева које треба приказати на хистограму, прво ћемо генерисати неколико таквих бројева помоћу функције `.random()` из `random` библиотеке. Ова функција даје случајан број између 0 и 1. Ако 100 пута генеришемо случајан број на овај начин и све их ставимо у листу, добићемо низ од 100 независно добијених случајних бројева.   "
   ]
  },
  {
   "cell_type": "code",
   "execution_count": 8,
   "id": "cb8a3963-565a-4036-b763-4abe57255ca4",
   "metadata": {},
   "outputs": [
    {
     "name": "stdout",
     "output_type": "stream",
     "text": [
      "[0.7894261700119348, 0.49039709093610706, 0.8949338628569771, 0.4803895863754344, 0.9532400916074815, 0.6725419395517317]\n"
     ]
    }
   ],
   "source": [
    "import random                             # prvo uvozimo biblioteku\n",
    "rb=[random.random() for i in range(100)]  # za pravljenje liste koristimo list comprehension\n",
    "print(rb[0:6])                            # prikazujemo prvih šest brojeva iz liste"
   ]
  },
  {
   "cell_type": "markdown",
   "id": "3bb27d2c",
   "metadata": {},
   "source": [
    "Да не бисмо штампали вредности свих сто елемената листе, боље да их прикажемо као хистограм. За то користимо функцију `hist()` која има само један аргумент: назив листе. "
   ]
  },
  {
   "cell_type": "code",
   "execution_count": 9,
   "id": "82e41f8d",
   "metadata": {},
   "outputs": [
    {
     "data": {
      "image/png": "[encoded data removed]",
      "text/plain": [
       "<Figure size 432x288 with 1 Axes>"
      ]
     },
     "metadata": {
      "needs_background": "light"
     },
     "output_type": "display_data"
    }
   ],
   "source": [
    "plt.hist(rb);"
   ]
  },
  {
   "cell_type": "markdown",
   "id": "39cce1a6",
   "metadata": {},
   "source": [
    "Добили смо хистограм. Он, истини за вољу, није најпрегледнији јер не знамо где су тачно границе интервала и колике су за њих вредности стубића. То можемо још мало да средимо. Прво ћемо да кажемо функцији `.hist()` да не дели интервал од најмање до највеће вредности на подинтервале, него да то уради за интервал од 0 до 1. То радимо тако што функцији уз аргумент који смо већ унели, саопштимо и да су границе тог великог интервала (_range_) 0 и 1. Онда ће границе подинтервала бити тачно на 0, 0.1, 0.2, итд. Друго, нацртаћемо мрежу (_grid_) преко графика да бисмо боље видели вредности и границе интервала."
   ]
  },
  {
   "cell_type": "code",
   "execution_count": 10,
   "id": "bca1fdab-0921-4005-9b36-0e98fef135ed",
   "metadata": {},
   "outputs": [
    {
     "data": {
      "image/png": "[encoded data removed]",
      "text/plain": [
       "<Figure size 432x288 with 1 Axes>"
      ]
     },
     "metadata": {
      "needs_background": "light"
     },
     "output_type": "display_data"
    }
   ],
   "source": [
    "plt.hist(rb,range=(0,1))\n",
    "plt.grid()"
   ]
  },
  {
   "cell_type": "markdown",
   "id": "8c3dd0b3",
   "metadata": {},
   "source": [
    "Сада је резулат свакако прегледнији и лакши за читање."
   ]
  }
 ],
 "metadata": {
  "kernelspec": {
   "display_name": "Python 3",
   "language": "python",
   "name": "python3"
  },
  "language_info": {
   "codemirror_mode": {
    "name": "ipython",
    "version": 3
   },
   "file_extension": ".py",
   "mimetype": "text/x-python",
   "name": "python",
   "nbconvert_exporter": "python",
   "pygments_lexer": "ipython3",
   "version": "3.9.1"
  }
 },
 "nbformat": 4,
 "nbformat_minor": 5
}
