{
 "cells": [
  {
   "cell_type": "markdown",
   "id": "6dd6a1a6-9809-421b-b8d1-7f58420e9b03",
   "metadata": {},
   "source": [
    "# Решења задатака"
   ]
  },
  {
   "cell_type": "markdown",
   "id": "e690bfff-665c-4e7e-9051-cef6ebda8a9d",
   "metadata": {},
   "source": [
    "## Елементи програмирања у Пајтону"
   ]
  },
  {
   "cell_type": "markdown",
   "id": "bdaf42ad-125f-4f97-9c24-298500707678",
   "metadata": {},
   "source": [
    "__Задатак 1__"
   ]
  },
  {
   "cell_type": "code",
   "execution_count": null,
   "id": "fec0340e-7a4e-4aad-9119-1caad43ec77b",
   "metadata": {},
   "outputs": [],
   "source": [
    "L=[2, 3, 4, \"5\", 6, \"7\"]\n",
    "[10*int(l) for l in L]"
   ]
  },
  {
   "cell_type": "markdown",
   "id": "8d502a3b-c9ef-4162-a17f-8c9156b5de48",
   "metadata": {},
   "source": [
    "__Задатак 2__"
   ]
  },
  {
   "cell_type": "code",
   "execution_count": null,
   "id": "18a5fd4f-9dc8-466a-aa62-9a43c43719ce",
   "metadata": {},
   "outputs": [],
   "source": [
    "for i in range(2,20,2):\n",
    "    print(i)"
   ]
  },
  {
   "cell_type": "markdown",
   "id": "9f319a58-6519-4324-972a-fff9966534fd",
   "metadata": {},
   "source": [
    "__Задатак 3__"
   ]
  },
  {
   "cell_type": "code",
   "execution_count": null,
   "id": "07ead822-77e8-4e70-9794-fb969484783a",
   "metadata": {},
   "outputs": [],
   "source": [
    "zbir=0\n",
    "i=0\n",
    "while zbir<=1000:\n",
    "    i+=1           # može i ovako: i=i+1\n",
    "    zbir+=i        # odnosno zbir=zbir+i\n",
    "print(i,zbir)"
   ]
  },
  {
   "cell_type": "markdown",
   "id": "29eb078a-e01b-4d74-99b3-de72177fe26b",
   "metadata": {},
   "source": [
    "__Задатак 4__"
   ]
  },
  {
   "cell_type": "code",
   "execution_count": null,
   "id": "835fbf56-38ec-4627-b65e-920867e2393f",
   "metadata": {},
   "outputs": [],
   "source": [
    "for i in range(1,16):\n",
    "    zbir=0\n",
    "    for j in range(1,i+1):\n",
    "        zbir+=j\n",
    "    print(zbir)"
   ]
  },
  {
   "cell_type": "markdown",
   "id": "0fac3859-70f9-4599-9d5c-57b3f384135d",
   "metadata": {},
   "source": [
    "__Задатак 5__"
   ]
  },
  {
   "cell_type": "code",
   "execution_count": null,
   "id": "c5ac3cb2-42f1-4b71-bd49-22a9c4231adc",
   "metadata": {},
   "outputs": [],
   "source": [
    "for i in range(1,4):\n",
    "    for j in range(1,4):\n",
    "        for k in range(1,4):\n",
    "            br=100*i+10*j+k\n",
    "            print(br)"
   ]
  },
  {
   "cell_type": "markdown",
   "id": "e0579921-d5cb-4e56-a4d0-49d921fabb87",
   "metadata": {},
   "source": [
    "__Задатак 6__"
   ]
  },
  {
   "cell_type": "code",
   "execution_count": null,
   "id": "7d13592b-c6a6-4563-89fd-33f8c4b88a0c",
   "metadata": {},
   "outputs": [],
   "source": [
    "L=[1,\"jedan\",1,2,2,1,\"dva\",\"dva\",\"dva\",\"jedan\"]\n",
    "for i in range(len(L)):\n",
    "    if L[i]==\"jedan\":\n",
    "        L[i]=1\n",
    "    elif L[i]==\"dva\":\n",
    "        L[i]=2\n",
    "print(L)"
   ]
  },
  {
   "cell_type": "markdown",
   "id": "bec77459-9fcf-422e-9ae5-bb62cb466d87",
   "metadata": {},
   "source": [
    "__Задатак 7__"
   ]
  },
  {
   "cell_type": "code",
   "execution_count": null,
   "id": "4b528bcf-52e6-421b-b2d3-e6f716de3b1a",
   "metadata": {},
   "outputs": [],
   "source": [
    "def zbir(L):\n",
    "    z=0\n",
    "    for i in L:\n",
    "        z=z+i\n",
    "    return z"
   ]
  },
  {
   "cell_type": "markdown",
   "id": "38026ab0-7faa-4459-bfd6-762241af4f65",
   "metadata": {},
   "source": [
    "## Рад са низовима података"
   ]
  },
  {
   "cell_type": "markdown",
   "id": "505ce4fb-51a0-44ff-a951-c013dd7e5775",
   "metadata": {},
   "source": [
    "__Задатак 1__"
   ]
  },
  {
   "cell_type": "code",
   "execution_count": null,
   "id": "cab32622-26b8-459c-8122-dc6b72660d82",
   "metadata": {},
   "outputs": [],
   "source": [
    "L=[\"a\",\"b\",\"c\",\"d\",\"e\",\"f\",\"g\",\"h\"]\n",
    "L[-3:]"
   ]
  },
  {
   "cell_type": "markdown",
   "id": "219512a3-941b-4722-b8ff-37a11dda5641",
   "metadata": {},
   "source": [
    "__Задатак 2__"
   ]
  },
  {
   "cell_type": "code",
   "execution_count": null,
   "id": "144073a3-da07-44f6-a3dd-9dbc6feb8bbf",
   "metadata": {},
   "outputs": [],
   "source": [
    "L=[\"a\",\"b\",\"c\",\"d\",\"e\",\"f\",\"g\",\"h\"]\n",
    "L[1::2]"
   ]
  },
  {
   "cell_type": "markdown",
   "id": "15945536-8378-4022-b8b5-985610ab17aa",
   "metadata": {},
   "source": [
    "__Задатак 3__"
   ]
  },
  {
   "cell_type": "code",
   "execution_count": null,
   "id": "f6d26af2-74f1-4f03-8196-f462cff8603c",
   "metadata": {},
   "outputs": [],
   "source": [
    "while 5 in L:\n",
    "    L.remove(5)"
   ]
  },
  {
   "cell_type": "markdown",
   "id": "906ff8b8-d0c3-44c2-8c0b-31b218cd2d2a",
   "metadata": {},
   "source": [
    "__Задатак 4__"
   ]
  },
  {
   "cell_type": "code",
   "execution_count": null,
   "id": "59afb721-9712-416c-a14f-3fc9d2f981cf",
   "metadata": {},
   "outputs": [],
   "source": [
    "start=0\n",
    "for i in range(L.count(4)):\n",
    "    ind=L.index(4,start)\n",
    "    start=ind+1\n",
    "    print(ind)"
   ]
  },
  {
   "cell_type": "markdown",
   "id": "96177f33-9b12-40c6-87a5-11fe831cd0cf",
   "metadata": {},
   "source": [
    "__Задатак 5__"
   ]
  },
  {
   "cell_type": "code",
   "execution_count": null,
   "id": "10aeccc7-2fff-4493-a18d-9b2d2f9dc673",
   "metadata": {},
   "outputs": [],
   "source": [
    "for x in L:\n",
    "    if x not in K:\n",
    "        print(x)"
   ]
  },
  {
   "cell_type": "markdown",
   "id": "2f4c8b00-dbc1-4ea6-b2d1-ab7df054f833",
   "metadata": {},
   "source": [
    "__Задатак 6__"
   ]
  },
  {
   "cell_type": "code",
   "execution_count": null,
   "id": "958d9c15-aa7c-4726-bfd8-f3235d79e4e1",
   "metadata": {},
   "outputs": [],
   "source": [
    "R=[x for x in L if x not in K]\n",
    "print(R)"
   ]
  },
  {
   "cell_type": "markdown",
   "id": "206fea1c-a741-4cad-b61e-4448a78b3245",
   "metadata": {},
   "source": [
    "## Графичко представљање података "
   ]
  },
  {
   "cell_type": "markdown",
   "id": "35e5d4de-d4a9-4457-ae1e-d4dd31494137",
   "metadata": {},
   "source": [
    "__Задатак 1__"
   ]
  },
  {
   "cell_type": "code",
   "execution_count": null,
   "id": "3a11cbdb-3566-48e5-859e-21dc71ec0705",
   "metadata": {},
   "outputs": [],
   "source": [
    "X=[1,2,3,4,5,6]\n",
    "Y=[1/x for x in X]\n",
    "plt.plot(X,Y)\n",
    "plt.grid()"
   ]
  },
  {
   "cell_type": "markdown",
   "id": "5bc96d9b-7d75-49e8-a88b-673ec3bc3d0a",
   "metadata": {},
   "source": [
    "__Задатак 2__"
   ]
  },
  {
   "cell_type": "code",
   "execution_count": null,
   "id": "4b1860cd-0862-4979-93c3-1e5aa49952db",
   "metadata": {},
   "outputs": [],
   "source": [
    "labels=['Jan','Feb','Mar','Apr','Maj','Jun','Jul','Avg','Sep','Okt','Nov','Dec']\n",
    "brd=[31,28,31,30,31,30,31,31,30,31,30,31]\n",
    "plt.bar(labels,brd);"
   ]
  },
  {
   "cell_type": "markdown",
   "id": "78bfc402-6f3a-478a-8a05-fc370dee2684",
   "metadata": {},
   "source": [
    "__Задатак 3__"
   ]
  },
  {
   "cell_type": "code",
   "execution_count": null,
   "id": "fde925a9-467b-4232-8890-e04e4ae29349",
   "metadata": {},
   "outputs": [],
   "source": [
    "vrednosti=[1/3,1/4,1/5,1/6,1/20]\n",
    "oznake=[\"1/3\",\"1/4\",\"1/5\",\"1/6\",\"1/20\"]\n",
    "plt.pie(vrednosti,labels=oznake);"
   ]
  },
  {
   "cell_type": "markdown",
   "id": "0a07ba44-077c-4846-af69-452ad8b9fd95",
   "metadata": {},
   "source": [
    "## Рад са табелама помоћу _pandas_ библиотеке"
   ]
  },
  {
   "cell_type": "markdown",
   "id": "f3cb773b-983a-4755-942a-8d99c50bb7e2",
   "metadata": {},
   "source": [
    "__Задатак 1__"
   ]
  },
  {
   "cell_type": "code",
   "execution_count": null,
   "id": "c0f6be79-08ce-47dd-b272-2809a73186a2",
   "metadata": {},
   "outputs": [],
   "source": [
    "ocene.iloc[:,1:].mean()"
   ]
  },
  {
   "cell_type": "markdown",
   "id": "bc87747d-db90-4389-82b9-004709c9261b",
   "metadata": {},
   "source": [
    "__Задатак 2__"
   ]
  },
  {
   "cell_type": "code",
   "execution_count": null,
   "id": "875ba534-fc6e-4bc1-ac7e-462beed5ae63",
   "metadata": {},
   "outputs": [],
   "source": [
    "ocene5=ocene==5             # True/False tabela gde True stoji na mestu petica \n",
    "br5=ocene5.sum()            # sabiramo True/False vrednosti po kolonama (True=1, False=0)\n",
    "mb5=br5.max()               # nalazimo maksimalni broj petica\n",
    "imb5=list(br5).index(mb5)   # nalazimo indeks kolone sa maksimalnim brojem petica\n",
    "print(ocene.columns[imb5])  # ispisujemo naziv tražene kolone"
   ]
  },
  {
   "cell_type": "markdown",
   "id": "118daeff-bea5-4fdf-906b-9a6bbe663743",
   "metadata": {},
   "source": [
    "__Задатак 3__"
   ]
  },
  {
   "cell_type": "code",
   "execution_count": null,
   "id": "ec0d37ba-5ca2-4a12-bf61-a3c57d9f84ff",
   "metadata": {},
   "outputs": [],
   "source": [
    "br2=[]                             # prazna lista za broj dvojki\n",
    "for i in range(len(ocene)):        # za svaki red u tabeli\n",
    "    b=(ocene.iloc[i,1:]==2).sum()  # prebrojimo koliko ima dvojki \n",
    "    br2.append(b)                  # broj dodajemo listi\n",
    "mb2=max(br2)                       # nalazimo najveći broj u listi\n",
    "imb2=br2.index(mb2)                # nalazimo indeks reda u kom je maksimum\n",
    "print(ocene.iloc[imb2,:])          # ispisujemo sve ocene traženog učenika"
   ]
  },
  {
   "cell_type": "markdown",
   "id": "1d06b13a-3da5-40ab-98b4-3127034dd552",
   "metadata": {
    "tags": []
   },
   "source": [
    "## Основе обраде и приказа табеларних података"
   ]
  },
  {
   "cell_type": "markdown",
   "id": "17e0c778-325d-4381-b911-d99c0ef4bb38",
   "metadata": {},
   "source": [
    "__Задатак 1__"
   ]
  },
  {
   "cell_type": "code",
   "execution_count": null,
   "id": "093fb734-8fb3-4176-904b-da2e6bef89d4",
   "metadata": {},
   "outputs": [],
   "source": [
    "dt.sort_values('Укупно места',ascending=False)"
   ]
  },
  {
   "cell_type": "markdown",
   "id": "2b3c8891-2d66-497d-9b99-c4cc270aee34",
   "metadata": {},
   "source": [
    "__Задатак 2__"
   ]
  },
  {
   "cell_type": "code",
   "execution_count": null,
   "id": "f9b46f79-4249-49a3-9998-e6a09c197f5f",
   "metadata": {},
   "outputs": [],
   "source": [
    "a=dt.sort_values('Преостало места')\n",
    "print(a['Школа'][:10])"
   ]
  },
  {
   "cell_type": "markdown",
   "id": "5567e27d-5f6c-46e9-9fef-479d487fdd3d",
   "metadata": {},
   "source": [
    "__Задатак 3__"
   ]
  },
  {
   "cell_type": "code",
   "execution_count": null,
   "id": "99d7a750-2762-43c6-aab4-a772e007d7d5",
   "metadata": {},
   "outputs": [],
   "source": [
    "dt[dt['Преостало места']<=5]"
   ]
  },
  {
   "cell_type": "markdown",
   "id": "12104c8f-4d2b-4228-a5a9-c4ca3a600dcc",
   "metadata": {},
   "source": [
    "__Задатак 4__"
   ]
  },
  {
   "cell_type": "code",
   "execution_count": null,
   "id": "5aec8e33-0df9-4ce8-8f6b-2dd18cd77267",
   "metadata": {},
   "outputs": [],
   "source": [
    "plt.bar(vc.index[:6],vc.values[:6])"
   ]
  },
  {
   "cell_type": "markdown",
   "id": "a363c68e-e10f-4da4-95af-f138abff544f",
   "metadata": {
    "tags": []
   },
   "source": [
    "__Задатак 5__"
   ]
  },
  {
   "cell_type": "code",
   "execution_count": null,
   "id": "9259938a-ddb9-423d-84b7-449c13aa73fa",
   "metadata": {},
   "outputs": [],
   "source": [
    "m=dt['Мин. бодова'].mean()\n",
    "md=dt['Мин. бодова'].median()\n",
    "print(m,md)"
   ]
  },
  {
   "cell_type": "markdown",
   "id": "dbde4ad7-e044-4490-9c0a-bc077982adcc",
   "metadata": {},
   "source": [
    "__Задатак 6__"
   ]
  },
  {
   "cell_type": "code",
   "execution_count": null,
   "id": "c1a4e568-8ffb-45e2-8445-4ead24f08ecb",
   "metadata": {},
   "outputs": [],
   "source": [
    "plt.hist(dt['Мин. бодова'])\n",
    "plt.grid() "
   ]
  }
 ],
 "metadata": {
  "kernelspec": {
   "display_name": "Python 3 (ipykernel)",
   "language": "python",
   "name": "python3"
  },
  "language_info": {
   "codemirror_mode": {
    "name": "ipython",
    "version": 3
   },
   "file_extension": ".py",
   "mimetype": "text/x-python",
   "name": "python",
   "nbconvert_exporter": "python",
   "pygments_lexer": "ipython3",
   "version": "3.8.13"
  }
 },
 "nbformat": 4,
 "nbformat_minor": 5
}
