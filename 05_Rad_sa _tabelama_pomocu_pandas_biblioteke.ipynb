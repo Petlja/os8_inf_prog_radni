{
 "cells": [
  {
   "cell_type": "markdown",
   "id": "8496a451-0081-4105-9950-cfff3a61f773",
   "metadata": {},
   "source": [
    "# Рад са табелама помоћу _pandas_ библиотеке"
   ]
  },
  {
   "cell_type": "markdown",
   "id": "72814cc0-7632-420a-a990-79e3cfdd97d6",
   "metadata": {},
   "source": [
    "Табеле можемо да представимо као низ врста или као низ колона. Конкретно, у Пајтону би то значило да у \"велику\" листу ставимо \"мале\" листе које представљају врсте или колоне. Рад са тако спакованим табелама није једноставан и захтева писање низа функција за претраживање, издвајање или нпр. копирање делова табеле. Због тога ћемо само показати како то може да изгледа и прећи на следећи ниво – да податке заиста организујемо у табеле.\n",
    "Пракса нам говори да су табеларно сложени подаци најзгоднији за употребу. Базе података све што имају чувају у разним табелама које повезују по одређеним атрибутима или променљивим, како их зовемо у Пајтону. За рад са табелама нам је неопходно да увеземо библиотеку која табелу има као тип података. За ову намену најчешће коришћена библиотека је _pandas_. У овој лекцији ћемо посветити пажњу употреби основних функција ове библиотеке. "
   ]
  },
  {
   "cell_type": "markdown",
   "id": "e9ef2c78-a8f8-4884-a699-083c61972fca",
   "metadata": {},
   "source": [
    "## Представљање табеларно задатих података помоћу листи"
   ]
  },
  {
   "cell_type": "markdown",
   "id": "abe1f8da-ae44-4edd-b6f6-7fb2b71f4e18",
   "metadata": {},
   "source": [
    "Најчешћи начин да организујемо велике количине података је да их представимо табелом. Рецимо, ова табела садржи податке о једној групи деце (при чему је, наравно, старост изражена у годинама, тежина у килограмима, а висина у центиметрима):"
   ]
  },
  {
   "cell_type": "markdown",
   "id": "55ac3155-637f-44ed-99a3-1e96aa977f46",
   "metadata": {},
   "source": [
    "|Ime|Pol|Starost|Masa|Visina|\n",
    "|---|---|---|---|---|\n",
    "|Ana|ž|13|46|160|\n",
    "|Bojan|m|14|52|165|\n",
    "|Vlada|m|13|47|157|\n",
    "|Gordana|ž|15|54|165|\n",
    "|Dejan|m|15|56|163|\n",
    "|Đorđe|m|13|45|159|\n",
    "|Elena|ž|14|49|161|\n",
    "|Žaklina|ž|15|52|164|\n",
    "|Zoran|m|15|57|167|\n",
    "|Ivana|ž|13|45|158|\n",
    "|Jasna|ž|14|51|162|"
   ]
  },
  {
   "cell_type": "markdown",
   "id": "4f2ffa49-5268-4bce-a2b6-e64004442681",
   "metadata": {},
   "source": [
    "Да бисмо могли машински да обрађујемо и анализирамо податке прво их морамо представити у облику неке структуре података. Један једноставан начин да се то уради је да сваки ред табеле представимо једном листом, и да потом све те листе запакујемо у једну велику листу, рецимо овако:"
   ]
  },
  {
   "cell_type": "code",
   "execution_count": 1,
   "id": "249bfd73-0021-4b12-b538-21c61f8ec53c",
   "metadata": {},
   "outputs": [],
   "source": [
    "podaci = [[\"Ana\",     \"ž\", 13, 46, 160],\n",
    "          [\"Bojan\",   \"m\", 14, 52, 165],\n",
    "          [\"Vlada\",   \"m\", 13, 47, 157],\n",
    "          [\"Gordana\", \"ž\", 15, 54, 165],\n",
    "          [\"Dejan\",   \"m\", 15, 56, 163],\n",
    "          [\"Đorđe\",   \"m\", 13, 45, 159],\n",
    "          [\"Elena\",   \"ž\", 14, 49, 161],\n",
    "          [\"Žaklina\", \"ž\", 15, 52, 164],\n",
    "          [\"Zoran\",   \"m\", 15, 57, 167],\n",
    "          [\"Ivana\",   \"ž\", 13, 45, 158],\n",
    "          [\"Jasna\",   \"ž\", 14, 51, 162]]"
   ]
  },
  {
   "cell_type": "markdown",
   "id": "83d8b437-7c96-45bb-bddc-7eb736697c8a",
   "metadata": {},
   "source": [
    "Из овако представљених података лако можемо добити податке о сваком појединачном детету у групи. Рецимо, податке о Дејану добијамо тако што испишемо елемент листе са индексом 4."
   ]
  },
  {
   "cell_type": "code",
   "execution_count": 2,
   "id": "08e5cf3f-72e4-462d-bf2c-338284b76b6a",
   "metadata": {},
   "outputs": [
    {
     "data": {
      "text/plain": [
       "['Dejan', 'm', 15, 56, 163]"
      ]
     },
     "execution_count": 2,
     "metadata": {},
     "output_type": "execute_result"
    }
   ],
   "source": [
    "podaci[4]"
   ]
  },
  {
   "cell_type": "markdown",
   "id": "e964f7ad-9cfd-46a4-bf57-45a2ad2f7069",
   "metadata": {},
   "source": [
    "Овај начин представљања података, међутим, није погодан за обраде по колонама. Рецимо, ако желимо да израчунамо просечну висину деце у групи морамо да пишемо програм. То није немогуће, чак није ни тешко, али је непрактично. Ево програма:"
   ]
  },
  {
   "cell_type": "code",
   "execution_count": 3,
   "id": "4a8638d5-32c6-4f1d-ac38-54a74abd89e3",
   "metadata": {},
   "outputs": [
    {
     "data": {
      "text/plain": [
       "161.9090909090909"
      ]
     },
     "execution_count": 3,
     "metadata": {},
     "output_type": "execute_result"
    }
   ],
   "source": [
    "sum = 0\n",
    "for dete in podaci:\n",
    "    sum += dete[4]\n",
    "sum/len(podaci)"
   ]
  },
  {
   "cell_type": "markdown",
   "id": "44b79e7c-5e96-4ab2-946e-8e7268e05046",
   "metadata": {},
   "source": [
    "Програм ради на следећи начин:\n",
    "- прво помоћну променљиву `sum` поставимо на нулу (у њој ће се полако акумулирати збир висина све деце у групи);\n",
    "- након тога циклус `for dete in podaci:` прође кроз свако дете у групи (јер сваки елемент листе `podaci` представља податке о једном детету) и на суму дода његову висину (висина детета се налази на петом месту у групи података за то дете, а то је елемент листе са индексом 4);\n",
    "- коначно, добијени збир поделимо бројем података да бисмо израчунали просек.\n",
    "\n",
    "Као што смо већ рекли, ово није јако тешко, али је непрактично. Треба нам флексибилнија структура података."
   ]
  },
  {
   "cell_type": "markdown",
   "id": "d458d84b-0e17-4a5f-b0cb-8f2fbc36b8e4",
   "metadata": {},
   "source": [
    "## Библиотека _pandas_ и структура података _DataFrame_"
   ]
  },
  {
   "cell_type": "markdown",
   "id": "eea0558a-5b86-42f4-90a5-1f9fb9e6436f",
   "metadata": {},
   "source": [
    "За ефикасно манипулисање табеларно представљеним подацима у Пајтону развијена је библиотека _pandas_. Њу можемо увести као што смо увозили и остале библиотеке (и уз пут ћемо јој дати надимак да бисмо мање морали да куцамо):"
   ]
  },
  {
   "cell_type": "code",
   "execution_count": 4,
   "id": "49ee03e9-df84-484d-8be3-6baec1205733",
   "metadata": {},
   "outputs": [],
   "source": [
    "import pandas as pd"
   ]
  },
  {
   "cell_type": "markdown",
   "id": "de47f34e-ea19-47b8-88e8-b8a615c41eed",
   "metadata": {},
   "source": [
    "Из ове библиотеке ћемо користити структуру података која се зове _DataFrame_ (енгл. _data_ значи „подаци”, _frame_ значи „оквир”, тако да _DataFrame_ значи „оквир са подацима”, односно „табела”)."
   ]
  },
  {
   "cell_type": "markdown",
   "id": "cd447ebd-e35e-467a-879c-dafb847eb805",
   "metadata": {},
   "source": [
    "Податке о деци сада лако можемо да препакујемо у _DataFrame_ позивом функције са истим именом:"
   ]
  },
  {
   "cell_type": "code",
   "execution_count": 5,
   "id": "dcfcd24d-c6bc-42f9-a922-62b65860733a",
   "metadata": {},
   "outputs": [],
   "source": [
    "tabela = pd.DataFrame(podaci)"
   ]
  },
  {
   "cell_type": "markdown",
   "id": "6d19e0e4-8fbb-4dcc-84ec-5590b76a7732",
   "metadata": {},
   "source": [
    "Претходна команда није дала никакав излаз. Она је просто препаковала податке наведене у листи `podaci` у нову структуру података. Да бисмо се уверили да се ради само о препакивању, исписаћемо садржај променљиве `tabela`:"
   ]
  },
  {
   "cell_type": "code",
   "execution_count": 6,
   "id": "2cd65f3a-5ff9-457b-8abe-64d58e66770f",
   "metadata": {},
   "outputs": [
    {
     "data": {
      "text/html": [
       "<div>\n",
       "<style scoped>\n",
       "    .dataframe tbody tr th:only-of-type {\n",
       "        vertical-align: middle;\n",
       "    }\n",
       "\n",
       "    .dataframe tbody tr th {\n",
       "        vertical-align: top;\n",
       "    }\n",
       "\n",
       "    .dataframe thead th {\n",
       "        text-align: right;\n",
       "    }\n",
       "</style>\n",
       "<table border=\"1\" class=\"dataframe\">\n",
       "  <thead>\n",
       "    <tr style=\"text-align: right;\">\n",
       "      <th></th>\n",
       "      <th>0</th>\n",
       "      <th>1</th>\n",
       "      <th>2</th>\n",
       "      <th>3</th>\n",
       "      <th>4</th>\n",
       "    </tr>\n",
       "  </thead>\n",
       "  <tbody>\n",
       "    <tr>\n",
       "      <th>0</th>\n",
       "      <td>Ana</td>\n",
       "      <td>ž</td>\n",
       "      <td>13</td>\n",
       "      <td>46</td>\n",
       "      <td>160</td>\n",
       "    </tr>\n",
       "    <tr>\n",
       "      <th>1</th>\n",
       "      <td>Bojan</td>\n",
       "      <td>m</td>\n",
       "      <td>14</td>\n",
       "      <td>52</td>\n",
       "      <td>165</td>\n",
       "    </tr>\n",
       "    <tr>\n",
       "      <th>2</th>\n",
       "      <td>Vlada</td>\n",
       "      <td>m</td>\n",
       "      <td>13</td>\n",
       "      <td>47</td>\n",
       "      <td>157</td>\n",
       "    </tr>\n",
       "    <tr>\n",
       "      <th>3</th>\n",
       "      <td>Gordana</td>\n",
       "      <td>ž</td>\n",
       "      <td>15</td>\n",
       "      <td>54</td>\n",
       "      <td>165</td>\n",
       "    </tr>\n",
       "    <tr>\n",
       "      <th>4</th>\n",
       "      <td>Dejan</td>\n",
       "      <td>m</td>\n",
       "      <td>15</td>\n",
       "      <td>56</td>\n",
       "      <td>163</td>\n",
       "    </tr>\n",
       "    <tr>\n",
       "      <th>5</th>\n",
       "      <td>Đorđe</td>\n",
       "      <td>m</td>\n",
       "      <td>13</td>\n",
       "      <td>45</td>\n",
       "      <td>159</td>\n",
       "    </tr>\n",
       "    <tr>\n",
       "      <th>6</th>\n",
       "      <td>Elena</td>\n",
       "      <td>ž</td>\n",
       "      <td>14</td>\n",
       "      <td>49</td>\n",
       "      <td>161</td>\n",
       "    </tr>\n",
       "    <tr>\n",
       "      <th>7</th>\n",
       "      <td>Žaklina</td>\n",
       "      <td>ž</td>\n",
       "      <td>15</td>\n",
       "      <td>52</td>\n",
       "      <td>164</td>\n",
       "    </tr>\n",
       "    <tr>\n",
       "      <th>8</th>\n",
       "      <td>Zoran</td>\n",
       "      <td>m</td>\n",
       "      <td>15</td>\n",
       "      <td>57</td>\n",
       "      <td>167</td>\n",
       "    </tr>\n",
       "    <tr>\n",
       "      <th>9</th>\n",
       "      <td>Ivana</td>\n",
       "      <td>ž</td>\n",
       "      <td>13</td>\n",
       "      <td>45</td>\n",
       "      <td>158</td>\n",
       "    </tr>\n",
       "    <tr>\n",
       "      <th>10</th>\n",
       "      <td>Jasna</td>\n",
       "      <td>ž</td>\n",
       "      <td>14</td>\n",
       "      <td>51</td>\n",
       "      <td>162</td>\n",
       "    </tr>\n",
       "  </tbody>\n",
       "</table>\n",
       "</div>"
      ],
      "text/plain": [
       "          0  1   2   3    4\n",
       "0       Ana  ž  13  46  160\n",
       "1     Bojan  m  14  52  165\n",
       "2     Vlada  m  13  47  157\n",
       "3   Gordana  ž  15  54  165\n",
       "4     Dejan  m  15  56  163\n",
       "5     Đorđe  m  13  45  159\n",
       "6     Elena  ž  14  49  161\n",
       "7   Žaklina  ž  15  52  164\n",
       "8     Zoran  m  15  57  167\n",
       "9     Ivana  ž  13  45  158\n",
       "10    Jasna  ž  14  51  162"
      ]
     },
     "execution_count": 6,
     "metadata": {},
     "output_type": "execute_result"
    }
   ],
   "source": [
    "tabela"
   ]
  },
  {
   "cell_type": "markdown",
   "id": "5180362c-f960-401a-813e-6302586a9a0c",
   "metadata": {},
   "source": [
    "Ево и кратког видеа:"
   ]
  },
  {
   "cell_type": "markdown",
   "id": "67f390fa-2d71-417e-8750-d863c1dd6cc5",
   "metadata": {},
   "source": [
    "## ..............ovde  nekako ubaciti video iz https://petlja.org/kurs/478/8/1612 ............"
   ]
  },
  {
   "cell_type": "markdown",
   "id": "786e2749-41d4-4352-ba1d-0022d23788be",
   "metadata": {},
   "source": [
    "Да би табела била прегледнија, даћемо колонама име. Колонама се име даје овако:"
   ]
  },
  {
   "cell_type": "code",
   "execution_count": 7,
   "id": "161bf183-d935-49fd-8106-02c33e849649",
   "metadata": {},
   "outputs": [
    {
     "data": {
      "text/html": [
       "<div>\n",
       "<style scoped>\n",
       "    .dataframe tbody tr th:only-of-type {\n",
       "        vertical-align: middle;\n",
       "    }\n",
       "\n",
       "    .dataframe tbody tr th {\n",
       "        vertical-align: top;\n",
       "    }\n",
       "\n",
       "    .dataframe thead th {\n",
       "        text-align: right;\n",
       "    }\n",
       "</style>\n",
       "<table border=\"1\" class=\"dataframe\">\n",
       "  <thead>\n",
       "    <tr style=\"text-align: right;\">\n",
       "      <th></th>\n",
       "      <th>Ime</th>\n",
       "      <th>Pol</th>\n",
       "      <th>Starost</th>\n",
       "      <th>Masa</th>\n",
       "      <th>Visina</th>\n",
       "    </tr>\n",
       "  </thead>\n",
       "  <tbody>\n",
       "    <tr>\n",
       "      <th>0</th>\n",
       "      <td>Ana</td>\n",
       "      <td>ž</td>\n",
       "      <td>13</td>\n",
       "      <td>46</td>\n",
       "      <td>160</td>\n",
       "    </tr>\n",
       "    <tr>\n",
       "      <th>1</th>\n",
       "      <td>Bojan</td>\n",
       "      <td>m</td>\n",
       "      <td>14</td>\n",
       "      <td>52</td>\n",
       "      <td>165</td>\n",
       "    </tr>\n",
       "    <tr>\n",
       "      <th>2</th>\n",
       "      <td>Vlada</td>\n",
       "      <td>m</td>\n",
       "      <td>13</td>\n",
       "      <td>47</td>\n",
       "      <td>157</td>\n",
       "    </tr>\n",
       "    <tr>\n",
       "      <th>3</th>\n",
       "      <td>Gordana</td>\n",
       "      <td>ž</td>\n",
       "      <td>15</td>\n",
       "      <td>54</td>\n",
       "      <td>165</td>\n",
       "    </tr>\n",
       "    <tr>\n",
       "      <th>4</th>\n",
       "      <td>Dejan</td>\n",
       "      <td>m</td>\n",
       "      <td>15</td>\n",
       "      <td>56</td>\n",
       "      <td>163</td>\n",
       "    </tr>\n",
       "    <tr>\n",
       "      <th>5</th>\n",
       "      <td>Đorđe</td>\n",
       "      <td>m</td>\n",
       "      <td>13</td>\n",
       "      <td>45</td>\n",
       "      <td>159</td>\n",
       "    </tr>\n",
       "    <tr>\n",
       "      <th>6</th>\n",
       "      <td>Elena</td>\n",
       "      <td>ž</td>\n",
       "      <td>14</td>\n",
       "      <td>49</td>\n",
       "      <td>161</td>\n",
       "    </tr>\n",
       "    <tr>\n",
       "      <th>7</th>\n",
       "      <td>Žaklina</td>\n",
       "      <td>ž</td>\n",
       "      <td>15</td>\n",
       "      <td>52</td>\n",
       "      <td>164</td>\n",
       "    </tr>\n",
       "    <tr>\n",
       "      <th>8</th>\n",
       "      <td>Zoran</td>\n",
       "      <td>m</td>\n",
       "      <td>15</td>\n",
       "      <td>57</td>\n",
       "      <td>167</td>\n",
       "    </tr>\n",
       "    <tr>\n",
       "      <th>9</th>\n",
       "      <td>Ivana</td>\n",
       "      <td>ž</td>\n",
       "      <td>13</td>\n",
       "      <td>45</td>\n",
       "      <td>158</td>\n",
       "    </tr>\n",
       "    <tr>\n",
       "      <th>10</th>\n",
       "      <td>Jasna</td>\n",
       "      <td>ž</td>\n",
       "      <td>14</td>\n",
       "      <td>51</td>\n",
       "      <td>162</td>\n",
       "    </tr>\n",
       "  </tbody>\n",
       "</table>\n",
       "</div>"
      ],
      "text/plain": [
       "        Ime Pol  Starost  Masa  Visina\n",
       "0       Ana   ž       13    46     160\n",
       "1     Bojan   m       14    52     165\n",
       "2     Vlada   m       13    47     157\n",
       "3   Gordana   ž       15    54     165\n",
       "4     Dejan   m       15    56     163\n",
       "5     Đorđe   m       13    45     159\n",
       "6     Elena   ž       14    49     161\n",
       "7   Žaklina   ž       15    52     164\n",
       "8     Zoran   m       15    57     167\n",
       "9     Ivana   ž       13    45     158\n",
       "10    Jasna   ž       14    51     162"
      ]
     },
     "execution_count": 7,
     "metadata": {},
     "output_type": "execute_result"
    }
   ],
   "source": [
    "tabela = pd.DataFrame(podaci)\n",
    "tabela.columns=[\"Ime\", \"Pol\", \"Starost\", \"Masa\", \"Visina\"]\n",
    "tabela"
   ]
  },
  {
   "cell_type": "markdown",
   "id": "f3e29c32-56c2-49aa-b2f3-ddb1800bc141",
   "metadata": {},
   "source": [
    "Када свака колона има своје име, можемо да приступимо појединачним колонама:"
   ]
  },
  {
   "cell_type": "code",
   "execution_count": 8,
   "id": "0bdfdbf7-f5ab-4805-81a2-fba4debaf42d",
   "metadata": {},
   "outputs": [
    {
     "data": {
      "text/plain": [
       "0         Ana\n",
       "1       Bojan\n",
       "2       Vlada\n",
       "3     Gordana\n",
       "4       Dejan\n",
       "5       Đorđe\n",
       "6       Elena\n",
       "7     Žaklina\n",
       "8       Zoran\n",
       "9       Ivana\n",
       "10      Jasna\n",
       "Name: Ime, dtype: object"
      ]
     },
     "execution_count": 8,
     "metadata": {},
     "output_type": "execute_result"
    }
   ],
   "source": [
    "tabela[\"Ime\"]"
   ]
  },
  {
   "cell_type": "code",
   "execution_count": 9,
   "id": "52d904e7-d1e0-4040-a2fa-952d8c7b89e3",
   "metadata": {},
   "outputs": [
    {
     "data": {
      "text/plain": [
       "0     160\n",
       "1     165\n",
       "2     157\n",
       "3     165\n",
       "4     163\n",
       "5     159\n",
       "6     161\n",
       "7     164\n",
       "8     167\n",
       "9     158\n",
       "10    162\n",
       "Name: Visina, dtype: int64"
      ]
     },
     "execution_count": 9,
     "metadata": {},
     "output_type": "execute_result"
    }
   ],
   "source": [
    "tabela[\"Visina\"]"
   ]
  },
  {
   "cell_type": "markdown",
   "id": "ebe08fe8-d863-4c23-9459-6fa5a5951e53",
   "metadata": {},
   "source": [
    "Имена свих колона су увек доступна у облику листе овако:"
   ]
  },
  {
   "cell_type": "code",
   "execution_count": 10,
   "id": "317fb422-4adb-40bc-827d-613d19bae5c4",
   "metadata": {},
   "outputs": [
    {
     "data": {
      "text/plain": [
       "Index(['Ime', 'Pol', 'Starost', 'Masa', 'Visina'], dtype='object')"
      ]
     },
     "execution_count": 10,
     "metadata": {},
     "output_type": "execute_result"
    }
   ],
   "source": [
    "tabela.columns"
   ]
  },
  {
   "cell_type": "markdown",
   "id": "82b791b3-a125-4092-83e0-3575e155689b",
   "metadata": {},
   "source": [
    "### Функције за елементарну анализу табеларних података"
   ]
  },
  {
   "cell_type": "markdown",
   "id": "4863f9fc-d156-4bde-b22e-ed554d63a507",
   "metadata": {},
   "source": [
    "Кад су подаци сложени у _DataFrame_, помоћу следећих функција лако можемо да вршимо елементарну анализу података у табели:\n",
    "- `.sum()` – рачуна збир елемената у колони (сума);\n",
    "- `.mean()` – рачуна средњу вредност елемената у колони;\n",
    "- `.median()` – рачуна медијану елемената у колони;\n",
    "- `.min()` – рачуна најмању вредност у колони (минимум);\n",
    "- `.max()` – рачуна највећу вредност у колони (максимум)."
   ]
  },
  {
   "cell_type": "markdown",
   "id": "640bfe04-ac40-4fe3-9ac2-952d05e03975",
   "metadata": {},
   "source": [
    "Да видимо како то ради на примеру табеле `tabela`. Конкретно, висину најнижег детета у групи можемо да добијемо са:"
   ]
  },
  {
   "cell_type": "code",
   "execution_count": 11,
   "id": "24036687-0fb6-4b3e-8dd3-281df5047368",
   "metadata": {},
   "outputs": [
    {
     "data": {
      "text/plain": [
       "157"
      ]
     },
     "execution_count": 11,
     "metadata": {},
     "output_type": "execute_result"
    }
   ],
   "source": [
    "tabela[\"Visina\"].min()"
   ]
  },
  {
   "cell_type": "markdown",
   "id": "90f1503a-44d7-4cc5-878e-903bc13618e4",
   "metadata": {},
   "source": [
    "Колико година има најстарије дете у групи?"
   ]
  },
  {
   "cell_type": "code",
   "execution_count": 12,
   "id": "86d15af2-929e-4ed7-8175-9cc05c609864",
   "metadata": {},
   "outputs": [
    {
     "data": {
      "text/plain": [
       "15"
      ]
     },
     "execution_count": 12,
     "metadata": {},
     "output_type": "execute_result"
    }
   ],
   "source": [
    "tabela[\"Starost\"].max()"
   ]
  },
  {
   "cell_type": "markdown",
   "id": "c5843951-b38e-42e6-872b-63ccdf5d921c",
   "metadata": {},
   "source": [
    "Средња вредност висине деце у групи је:"
   ]
  },
  {
   "cell_type": "code",
   "execution_count": 13,
   "id": "e41fc3c1-2036-4b9d-8346-282a5408718c",
   "metadata": {},
   "outputs": [
    {
     "data": {
      "text/plain": [
       "161.9090909090909"
      ]
     },
     "execution_count": 13,
     "metadata": {},
     "output_type": "execute_result"
    }
   ],
   "source": [
    "tabela[\"Visina\"].mean()"
   ]
  },
  {
   "cell_type": "markdown",
   "id": "72b4e4d8-115a-4789-bbac-0541f746a6e3",
   "metadata": {},
   "source": [
    "Медијална висина:"
   ]
  },
  {
   "cell_type": "code",
   "execution_count": 14,
   "id": "f2dca6b3-12f5-4dd5-a3da-5a062d442113",
   "metadata": {},
   "outputs": [
    {
     "data": {
      "text/plain": [
       "162.0"
      ]
     },
     "execution_count": 14,
     "metadata": {},
     "output_type": "execute_result"
    }
   ],
   "source": [
    "tabela[\"Visina\"].median()"
   ]
  },
  {
   "cell_type": "markdown",
   "id": "3559541d-bc46-4c9e-9e99-325376c975fa",
   "metadata": {},
   "source": [
    "Све функције које смо овде примењивали на појединачне колоне табеле могу да се примене на целе табеле. У том случају резултат добијамо као низ резултата за све обухваћене колоне одговарајућег типа. Уколико се функције примене и на неодговарајуће колоне, Пајтон ће уз резултате приказати и упозорење. То можемо да избегнемо тако што издвојимо само колоне на које функција може да се примени. Функција `.sum()`, на пример, може да сабира и стрингове и бројеве, док функција `.mean()` не може за стрингове да нађе средње вредности. Ту бисмо добили упозорење. Пробајте."
   ]
  },
  {
   "cell_type": "code",
   "execution_count": 15,
   "id": "7867a72a-82b0-4fc7-bc3b-47908a0a1ecc",
   "metadata": {},
   "outputs": [
    {
     "data": {
      "text/plain": [
       "Ime        AnaBojanVladaGordanaDejanĐorđeElenaŽaklinaZora...\n",
       "Pol                                              žmmžmmžžmžž\n",
       "Starost                                                  154\n",
       "Masa                                                     554\n",
       "Visina                                                  1781\n",
       "dtype: object"
      ]
     },
     "execution_count": 15,
     "metadata": {},
     "output_type": "execute_result"
    }
   ],
   "source": [
    "tabela.sum()"
   ]
  },
  {
   "cell_type": "markdown",
   "id": "0132038f-a985-4264-b3f4-d019dfff4c17",
   "metadata": {
    "tags": []
   },
   "source": [
    "### Рачун са колонама и редовима табеле"
   ]
  },
  {
   "cell_type": "markdown",
   "id": "d77c5fa7-9302-4ab1-8c00-e527f61992ca",
   "metadata": {},
   "source": [
    "Колико год било унапред дефинисаних функција за анализу података у табели, то је ограничен број. Нама може да затреба нешто другачије. У том случају ће бити потребно да напишемо програм који израчунава тражену вредност. Овде ћемо приказати неке једноставне примере."
   ]
  },
  {
   "cell_type": "markdown",
   "id": "54c35e45-f33c-4cc9-a1ff-eb8ccec113dc",
   "metadata": {},
   "source": [
    "Кренимо од скупа података о оценама у једном разреду. У ћелији испод дате су оцене неких ученика из информатике, енглеског, математике, физике, хемије и ликовног:"
   ]
  },
  {
   "cell_type": "code",
   "execution_count": 16,
   "id": "6332a2c2-dc73-4179-8edf-22de21788f8d",
   "metadata": {},
   "outputs": [],
   "source": [
    "razred = [[\"Ana\",     5, 3, 5, 2, 4, 5],\n",
    "          [\"Bojan\",   5, 5, 5, 5, 5, 5],\n",
    "          [\"Vlada\",   4, 5, 3, 4, 5, 4],\n",
    "          [\"Gordana\", 5, 5, 5, 5, 5, 5],\n",
    "          [\"Dejan\",   3, 4, 2, 3, 3, 4],\n",
    "          [\"Đorđe\",   4, 5, 3, 4, 5, 4],\n",
    "          [\"Elena\",   3, 3, 3, 4, 2, 3],\n",
    "          [\"Žaklina\", 5, 5, 4, 5, 4, 5],\n",
    "          [\"Zoran\",   4, 5, 4, 4, 3, 5],\n",
    "          [\"Ivana\",   2, 2, 2, 2, 2, 5],\n",
    "          [\"Jasna\",   3, 4, 5, 4, 5, 5]]"
   ]
  },
  {
   "cell_type": "markdown",
   "id": "664a2f05-cc8f-4507-80da-1446b9e6f836",
   "metadata": {},
   "source": [
    "Сада ћемо од ових података направити табелу чије колоне ће се звати _Ime_, _Informatika_, _Engleski_, _Matematika_, _Fizika_, _Hemija_ и _Likovno_."
   ]
  },
  {
   "cell_type": "code",
   "execution_count": 17,
   "id": "11cc24ff-01ac-4acb-9882-024538c8c6c9",
   "metadata": {},
   "outputs": [
    {
     "data": {
      "text/html": [
       "<div>\n",
       "<style scoped>\n",
       "    .dataframe tbody tr th:only-of-type {\n",
       "        vertical-align: middle;\n",
       "    }\n",
       "\n",
       "    .dataframe tbody tr th {\n",
       "        vertical-align: top;\n",
       "    }\n",
       "\n",
       "    .dataframe thead th {\n",
       "        text-align: right;\n",
       "    }\n",
       "</style>\n",
       "<table border=\"1\" class=\"dataframe\">\n",
       "  <thead>\n",
       "    <tr style=\"text-align: right;\">\n",
       "      <th></th>\n",
       "      <th>Ime</th>\n",
       "      <th>Informatika</th>\n",
       "      <th>Engleski</th>\n",
       "      <th>Matematika</th>\n",
       "      <th>Fizika</th>\n",
       "      <th>Hemija</th>\n",
       "      <th>Likovno</th>\n",
       "    </tr>\n",
       "  </thead>\n",
       "  <tbody>\n",
       "    <tr>\n",
       "      <th>0</th>\n",
       "      <td>Ana</td>\n",
       "      <td>5</td>\n",
       "      <td>3</td>\n",
       "      <td>5</td>\n",
       "      <td>2</td>\n",
       "      <td>4</td>\n",
       "      <td>5</td>\n",
       "    </tr>\n",
       "    <tr>\n",
       "      <th>1</th>\n",
       "      <td>Bojan</td>\n",
       "      <td>5</td>\n",
       "      <td>5</td>\n",
       "      <td>5</td>\n",
       "      <td>5</td>\n",
       "      <td>5</td>\n",
       "      <td>5</td>\n",
       "    </tr>\n",
       "    <tr>\n",
       "      <th>2</th>\n",
       "      <td>Vlada</td>\n",
       "      <td>4</td>\n",
       "      <td>5</td>\n",
       "      <td>3</td>\n",
       "      <td>4</td>\n",
       "      <td>5</td>\n",
       "      <td>4</td>\n",
       "    </tr>\n",
       "    <tr>\n",
       "      <th>3</th>\n",
       "      <td>Gordana</td>\n",
       "      <td>5</td>\n",
       "      <td>5</td>\n",
       "      <td>5</td>\n",
       "      <td>5</td>\n",
       "      <td>5</td>\n",
       "      <td>5</td>\n",
       "    </tr>\n",
       "    <tr>\n",
       "      <th>4</th>\n",
       "      <td>Dejan</td>\n",
       "      <td>3</td>\n",
       "      <td>4</td>\n",
       "      <td>2</td>\n",
       "      <td>3</td>\n",
       "      <td>3</td>\n",
       "      <td>4</td>\n",
       "    </tr>\n",
       "    <tr>\n",
       "      <th>5</th>\n",
       "      <td>Đorđe</td>\n",
       "      <td>4</td>\n",
       "      <td>5</td>\n",
       "      <td>3</td>\n",
       "      <td>4</td>\n",
       "      <td>5</td>\n",
       "      <td>4</td>\n",
       "    </tr>\n",
       "    <tr>\n",
       "      <th>6</th>\n",
       "      <td>Elena</td>\n",
       "      <td>3</td>\n",
       "      <td>3</td>\n",
       "      <td>3</td>\n",
       "      <td>4</td>\n",
       "      <td>2</td>\n",
       "      <td>3</td>\n",
       "    </tr>\n",
       "    <tr>\n",
       "      <th>7</th>\n",
       "      <td>Žaklina</td>\n",
       "      <td>5</td>\n",
       "      <td>5</td>\n",
       "      <td>4</td>\n",
       "      <td>5</td>\n",
       "      <td>4</td>\n",
       "      <td>5</td>\n",
       "    </tr>\n",
       "    <tr>\n",
       "      <th>8</th>\n",
       "      <td>Zoran</td>\n",
       "      <td>4</td>\n",
       "      <td>5</td>\n",
       "      <td>4</td>\n",
       "      <td>4</td>\n",
       "      <td>3</td>\n",
       "      <td>5</td>\n",
       "    </tr>\n",
       "    <tr>\n",
       "      <th>9</th>\n",
       "      <td>Ivana</td>\n",
       "      <td>2</td>\n",
       "      <td>2</td>\n",
       "      <td>2</td>\n",
       "      <td>2</td>\n",
       "      <td>2</td>\n",
       "      <td>5</td>\n",
       "    </tr>\n",
       "    <tr>\n",
       "      <th>10</th>\n",
       "      <td>Jasna</td>\n",
       "      <td>3</td>\n",
       "      <td>4</td>\n",
       "      <td>5</td>\n",
       "      <td>4</td>\n",
       "      <td>5</td>\n",
       "      <td>5</td>\n",
       "    </tr>\n",
       "  </tbody>\n",
       "</table>\n",
       "</div>"
      ],
      "text/plain": [
       "        Ime  Informatika  Engleski  Matematika  Fizika  Hemija  Likovno\n",
       "0       Ana            5         3           5       2       4        5\n",
       "1     Bojan            5         5           5       5       5        5\n",
       "2     Vlada            4         5           3       4       5        4\n",
       "3   Gordana            5         5           5       5       5        5\n",
       "4     Dejan            3         4           2       3       3        4\n",
       "5     Đorđe            4         5           3       4       5        4\n",
       "6     Elena            3         3           3       4       2        3\n",
       "7   Žaklina            5         5           4       5       4        5\n",
       "8     Zoran            4         5           4       4       3        5\n",
       "9     Ivana            2         2           2       2       2        5\n",
       "10    Jasna            3         4           5       4       5        5"
      ]
     },
     "execution_count": 17,
     "metadata": {},
     "output_type": "execute_result"
    }
   ],
   "source": [
    "ocene = pd.DataFrame(razred)\n",
    "ocene.columns=[\"Ime\", \"Informatika\", \"Engleski\", \"Matematika\", \"Fizika\", \"Hemija\", \"Likovno\"]\n",
    "ocene"
   ]
  },
  {
   "cell_type": "markdown",
   "id": "24555577-e173-48bb-b2b8-f96c3ad31877",
   "metadata": {},
   "source": [
    "Ако желимо да израчунамо средње вредности оцена по предметима, треба на сваку колону ове табеле (осим прве где су имена) да применимо функцију `mean`. Листа са именима свих колона табеле `ocene` се добија као `ocene.columns`, па сада само треба да прођемо кроз ову листу и за сваку колону да израчунамо средњу вредност:"
   ]
  },
  {
   "cell_type": "code",
   "execution_count": 18,
   "id": "39357e82-50cc-4b49-a77f-1083846d6d88",
   "metadata": {},
   "outputs": [
    {
     "name": "stdout",
     "output_type": "stream",
     "text": [
      "Informatika -> 3.91\n",
      "Engleski -> 4.18\n",
      "Matematika -> 3.73\n",
      "Fizika -> 3.82\n",
      "Hemija -> 3.91\n",
      "Likovno -> 4.55\n"
     ]
    }
   ],
   "source": [
    "predmeti=ocene.columns[1:]   # slajsom [1:] izdvajamo sve kolone sem prve\n",
    "for predmet in predmeti:\n",
    "    print(predmet, \"->\", round(ocene[predmet].mean(), 2))"
   ]
  },
  {
   "cell_type": "markdown",
   "id": "9aeacb86-a9cc-408c-baa2-ab9fd74380ff",
   "metadata": {},
   "source": [
    "Да бисмо израчунали средње вредности по редовима, тј. за сваког ученика, потребно је да уведемо нови начин приступа подацима у табели. Одређеном реду табеле не можемо да приступимо без аксесора, посебних функција писаних за објекте типа _DataFrame_, чији су аргументи имена редова/колона или њихови индекси у угластим заградама. Аксесор, помоћу ког приступамо редовима и појединачним елементима табеле је `.iloc[]`. Аргументи овог аксесора су нумерички индекси редова и колона који почињу од нуле."
   ]
  },
  {
   "cell_type": "markdown",
   "id": "c5697d87-8b45-46ba-9b92-e6884a1f4d13",
   "metadata": {},
   "source": [
    "На пример, податке из трећег реда (индекс је 2) табеле добијамо са:"
   ]
  },
  {
   "cell_type": "code",
   "execution_count": 19,
   "id": "010ced6f-3813-4f5a-bf73-8c4d44036b32",
   "metadata": {},
   "outputs": [
    {
     "data": {
      "text/plain": [
       "Ime            Gordana\n",
       "Informatika          5\n",
       "Engleski             5\n",
       "Matematika           5\n",
       "Fizika               5\n",
       "Hemija               5\n",
       "Likovno              5\n",
       "Name: 3, dtype: object"
      ]
     },
     "execution_count": 19,
     "metadata": {},
     "output_type": "execute_result"
    }
   ],
   "source": [
    "ocene.iloc[3]"
   ]
  },
  {
   "cell_type": "markdown",
   "id": "67002c13-9380-426a-9615-2d8bd3f6aea9",
   "metadata": {},
   "source": [
    "На овај начин смо добили податке за једног ученика, тј. ученицу."
   ]
  },
  {
   "cell_type": "markdown",
   "id": "95a444fe-029a-4223-bd94-6812fc3fa2bb",
   "metadata": {},
   "source": [
    "Да бисмо из реда издвојили само нумеричке вредности, тј. оцене, потребно је да аксесор добије и други аргумент. Осим индекса реда, потребно је да ставимо и индексе колона. У овом примеру ћемо узети све индексе почевши од индекса 1 јер је у колони са индексом нула име ученика."
   ]
  },
  {
   "cell_type": "code",
   "execution_count": 20,
   "id": "12fe1e46-b9a2-4dbc-b8a5-5070cbb4860a",
   "metadata": {},
   "outputs": [
    {
     "data": {
      "text/plain": [
       "Informatika    5\n",
       "Engleski       5\n",
       "Matematika     5\n",
       "Fizika         5\n",
       "Hemija         5\n",
       "Likovno        5\n",
       "Name: 3, dtype: object"
      ]
     },
     "execution_count": 20,
     "metadata": {},
     "output_type": "execute_result"
    }
   ],
   "source": [
    "ocene.iloc[3,1:]"
   ]
  },
  {
   "cell_type": "markdown",
   "id": "920b2e68-123d-4b99-bfba-9dfdf36425e9",
   "metadata": {},
   "source": [
    "Средње вредности оцена за све ученике сада можемо да израчунамо овако:"
   ]
  },
  {
   "cell_type": "code",
   "execution_count": 21,
   "id": "04037fab-7b79-402d-81aa-9605138de705",
   "metadata": {},
   "outputs": [
    {
     "name": "stdout",
     "output_type": "stream",
     "text": [
      "Ana -> 4.0\n",
      "Bojan -> 5.0\n",
      "Vlada -> 4.166666666666667\n",
      "Gordana -> 5.0\n",
      "Dejan -> 3.1666666666666665\n",
      "Đorđe -> 4.166666666666667\n",
      "Elena -> 3.0\n",
      "Žaklina -> 4.666666666666667\n",
      "Zoran -> 4.166666666666667\n",
      "Ivana -> 2.5\n",
      "Jasna -> 4.333333333333333\n"
     ]
    }
   ],
   "source": [
    "for i in range(len(ocene)):\n",
    "    print(ocene.iloc[i,0], \"->\", ocene.iloc[i,1:].mean())"
   ]
  },
  {
   "cell_type": "markdown",
   "id": "750dd640-0a9a-47b6-a960-e8316af0adb3",
   "metadata": {},
   "source": [
    "__Задатак 1__: Израчунајте средње вредности оцена по предметима у табели `ocene` примењујући функцију `.mean()` на део табеле у којој су нумеричке вредности."
   ]
  },
  {
   "cell_type": "markdown",
   "id": "100a8a0c-97af-417d-9dc2-c76322ece309",
   "metadata": {},
   "source": [
    "__Задатак 2__: Напишите програм који у табели `ocene` проналази предмет где је највише ученика добило оцену 5. "
   ]
  },
  {
   "cell_type": "markdown",
   "id": "fe6ead3f-cc30-478d-a803-3ef9965af24b",
   "metadata": {},
   "source": [
    "__Задатак 3__: Напишите програм који у табели `ocene` проналази ученика са највећим бројем двојки."
   ]
  }
 ],
 "metadata": {
  "kernelspec": {
   "display_name": "Python 3 (ipykernel)",
   "language": "python",
   "name": "python3"
  },
  "language_info": {
   "codemirror_mode": {
    "name": "ipython",
    "version": 3
   },
   "file_extension": ".py",
   "mimetype": "text/x-python",
   "name": "python",
   "nbconvert_exporter": "python",
   "pygments_lexer": "ipython3",
   "version": "3.8.13"
  }
 },
 "nbformat": 4,
 "nbformat_minor": 5
}
