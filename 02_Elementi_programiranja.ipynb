{
 "cells": [
  {
   "cell_type": "markdown",
   "id": "063dfc54",
   "metadata": {},
   "source": [
    "# Елементи програмирања у Пајтону"
   ]
  },
  {
   "cell_type": "markdown",
   "id": "10ff3755",
   "metadata": {},
   "source": [
    "> Имајући у виду да ученици осмог разреда могу имати битно различито предзнање и искуство у програмирању, на почетку овог приручника дајемо кратак преглед елемената и правила потребних за програмирање у Пајтону. Некима су ови елементи познати па не морају да се задржавају на овом тексту. Другима је згодно да имају подсетник или да опет прочитају шта су основни елементи. Сами одлучите на који начин ћете читати текст или пробати линије кôда у овој свесци."
   ]
  },
  {
   "cell_type": "markdown",
   "id": "7930ac2f",
   "metadata": {
    "tags": []
   },
   "source": [
    "## Типови података"
   ]
  },
  {
   "cell_type": "markdown",
   "id": "03c3c995",
   "metadata": {},
   "source": [
    "У програмирању разликујемо три основне врсте података: нумеричке (бројевe различитих типова, нпр. `-3` или `4.17`), \"стрингове\" (текстуалне или знаковне податке, нпр. `\"Пајтон\"` или `\"###\"`) и \"булеане\" (логичке податке: тачно или нетачно, тј. `True` или `False`). У Пајтону постоји финија подела на типове податка, нпр. на целе бројеве (_integer_), децималне бројеве (_float_), стрингове (_string_) или листе (_list_). Свака употреба података подразумева да подаци одговарају намени. Уколико то није случај, програм ће при извршењу пријавити грешку. Не можемо, на пример, да тражимо елемент низа са редним бројем 2.17 или да израчунамо корен из стринга \"девет\". Свако програмирање подразумава да неким променљивим вредностима доделимо вредности. Пајтон нас неће терати да унапред кажемо ког је типа променљива већ ће покушати сам да је препозна. Свеједно, морамо да водимо рачуна о типу података са којима радимо и да будемо доследни."
   ]
  },
  {
   "cell_type": "markdown",
   "id": "0489dcbe",
   "metadata": {},
   "source": [
    "### Нумерички подаци"
   ]
  },
  {
   "cell_type": "markdown",
   "id": "9b939a40",
   "metadata": {},
   "source": [
    "Пајтон познаје три типа нумеричких, односно бројчаних података: целобројне вредности (_integer_), децималне бројеве (_float_) и комплексне бројеве (_complex_). Овим последњим типом се свакако нећемо бавити у основној школи. Ког је типа променљива, увек можемо да проверимо помоћу функције `type()`."
   ]
  },
  {
   "cell_type": "code",
   "execution_count": 1,
   "id": "29689754",
   "metadata": {},
   "outputs": [
    {
     "data": {
      "text/plain": [
       "int"
      ]
     },
     "execution_count": 1,
     "metadata": {},
     "output_type": "execute_result"
    }
   ],
   "source": [
    "i=10\n",
    "type(i)"
   ]
  },
  {
   "cell_type": "markdown",
   "id": "37c38b3f",
   "metadata": {},
   "source": [
    "Број 10 је свакако цео број, али такође припада и скупу рационалних и реалних бројева. Разлог због ког је Пајтон тип ове променљиве препознао баш као `int` је то што бира најекономичнију варијанту. Број 10 ће имати најмањи запис и трошити најмање меморије ако га чувамо као \"интиџер\". Уколико број има децимални запис (макар иза децималне тачке стајала и нула) тип тог податка ће бити препознат као `float`."
   ]
  },
  {
   "cell_type": "code",
   "execution_count": 2,
   "id": "2ae2e09f",
   "metadata": {},
   "outputs": [
    {
     "data": {
      "text/plain": [
       "float"
      ]
     },
     "execution_count": 2,
     "metadata": {},
     "output_type": "execute_result"
    }
   ],
   "source": [
    "f=10.0\n",
    "type(f)"
   ]
  },
  {
   "cell_type": "markdown",
   "id": "76eac35a",
   "metadata": {},
   "source": [
    "### Знаковни подаци"
   ]
  },
  {
   "cell_type": "markdown",
   "id": "b154d1e5",
   "metadata": {},
   "source": [
    "Знаковне податке обично називамо стринговима или нискама. Одатле ознака типа `str`. То су низови алфа-нумеричких карактера записани као текст. Када променљивој додељујемо вредност која је низ знакова, онда тај садржај стављамо под једноструке или двоструке знаке навода. Битно је да на почетку и на крају буде иста врста наводника."
   ]
  },
  {
   "cell_type": "code",
   "execution_count": 3,
   "id": "d9f757b4",
   "metadata": {},
   "outputs": [],
   "source": [
    "s='Programiranje u Pajtonu'"
   ]
  },
  {
   "cell_type": "code",
   "execution_count": 4,
   "id": "e5f6b21f",
   "metadata": {},
   "outputs": [
    {
     "data": {
      "text/plain": [
       "str"
      ]
     },
     "execution_count": 4,
     "metadata": {},
     "output_type": "execute_result"
    }
   ],
   "source": [
    "type(s)"
   ]
  },
  {
   "cell_type": "markdown",
   "id": "1ff64e5a",
   "metadata": {},
   "source": [
    "### Логичке вредности"
   ]
  },
  {
   "cell_type": "markdown",
   "id": "6359b578",
   "metadata": {},
   "source": [
    "Тип променљиве која садржи вредност логичког исказа називамо булеан (_boolean_). Булеани имају своје вредности које могу да буду или тачно (_True_) или нетачно (_False_). Свако поређење вредности променљивих (било ког типа) помоћу оператора једнако (`==`), није једнако (`!=`), мање (`<`), мање или једнако (`<=`), веће (`>`) и веће или једнако (`>=`) резултује логичком вредношћу. "
   ]
  },
  {
   "cell_type": "code",
   "execution_count": 5,
   "id": "6c0a6e42",
   "metadata": {},
   "outputs": [
    {
     "data": {
      "text/plain": [
       "True"
      ]
     },
     "execution_count": 5,
     "metadata": {},
     "output_type": "execute_result"
    }
   ],
   "source": [
    "5==5.0"
   ]
  },
  {
   "cell_type": "markdown",
   "id": "3f31594f-0efd-4c57-b3f6-4293ab4dc866",
   "metadata": {},
   "source": [
    "Замените у претходном пољу оператор `==` неким другим логичким оператором. Шта се догађа? У којим је све случајевима резултат `True`."
   ]
  },
  {
   "cell_type": "code",
   "execution_count": 6,
   "id": "1378882f",
   "metadata": {},
   "outputs": [
    {
     "data": {
      "text/plain": [
       "bool"
      ]
     },
     "execution_count": 6,
     "metadata": {},
     "output_type": "execute_result"
    }
   ],
   "source": [
    "type(5==5.0)"
   ]
  },
  {
   "cell_type": "markdown",
   "id": "c51077d9",
   "metadata": {},
   "source": [
    "Операције за рад са логичким вредностима су логичко и (`and` или `&`), логичко или (`or` или `|`) и не (`not`). Резултати ових логичких операција су такође логичке вредности."
   ]
  },
  {
   "cell_type": "code",
   "execution_count": 7,
   "id": "9c454480",
   "metadata": {},
   "outputs": [
    {
     "data": {
      "text/plain": [
       "True"
      ]
     },
     "execution_count": 7,
     "metadata": {},
     "output_type": "execute_result"
    }
   ],
   "source": [
    "(5==5) & (5!=6)"
   ]
  },
  {
   "cell_type": "markdown",
   "id": "05d94fb8",
   "metadata": {},
   "source": [
    "### Претварање променљивих у други тип податка"
   ]
  },
  {
   "cell_type": "markdown",
   "id": "01a8c808",
   "metadata": {},
   "source": [
    "У неким случајевима, тип податка је могуће претворити у други. На пример стринг \"2.75\" лако може да се претвори у децимални број 2.75 уз помоћ функције `float()`. Обрнуто такође важи. Сада користимо функцију `str()`. "
   ]
  },
  {
   "cell_type": "code",
   "execution_count": 8,
   "id": "12a89293",
   "metadata": {},
   "outputs": [
    {
     "data": {
      "text/plain": [
       "2.75"
      ]
     },
     "execution_count": 8,
     "metadata": {},
     "output_type": "execute_result"
    }
   ],
   "source": [
    "float(\"2.75\")"
   ]
  },
  {
   "cell_type": "code",
   "execution_count": 9,
   "id": "52d91ef2",
   "metadata": {},
   "outputs": [
    {
     "data": {
      "text/plain": [
       "'0.14285714285714285'"
      ]
     },
     "execution_count": 9,
     "metadata": {},
     "output_type": "execute_result"
    }
   ],
   "source": [
    "str(1/7)"
   ]
  },
  {
   "cell_type": "markdown",
   "id": "87818379",
   "metadata": {},
   "source": [
    "Претварање интиџера у децимални број је једнозначно, само се промени формат, а вредност остаје иста. У супротном смеру морамо да претворимо број на целобројну вредност, тј. занемаримо цифре иза децималне тачке због чега се вредност променљиве унеколико мења."
   ]
  },
  {
   "cell_type": "code",
   "execution_count": 10,
   "id": "25f1d80a",
   "metadata": {},
   "outputs": [
    {
     "data": {
      "text/plain": [
       "3.0"
      ]
     },
     "execution_count": 10,
     "metadata": {},
     "output_type": "execute_result"
    }
   ],
   "source": [
    "float(3)"
   ]
  },
  {
   "cell_type": "code",
   "execution_count": 11,
   "id": "ba4a65bf",
   "metadata": {},
   "outputs": [
    {
     "data": {
      "text/plain": [
       "3"
      ]
     },
     "execution_count": 11,
     "metadata": {},
     "output_type": "execute_result"
    }
   ],
   "source": [
    "int(3.333)"
   ]
  },
  {
   "cell_type": "markdown",
   "id": "3032ac65-7b89-440f-ac81-b9e0277954fe",
   "metadata": {},
   "source": [
    "__Задатак 1__: Напишите програм који све вредности у листи \\[2, 3, 4, \"5\", 6, \"7\"\\] множи са десет и ставља у нову листу. Ако елемент није нумеричка вредност, прво је треба претворити у податак тог типа. "
   ]
  },
  {
   "cell_type": "markdown",
   "id": "74978cf9-277f-4dbe-b69a-4331cd703f67",
   "metadata": {},
   "source": [
    "## Колекције"
   ]
  },
  {
   "cell_type": "markdown",
   "id": "6b83dd0c-b5e1-4649-9fc8-086da2400578",
   "metadata": {},
   "source": [
    "Пајтон различите врсте скупова података назива колекцијама. Постоје четири основне колекције које имамо на располагању чим покренемо Пајтон. То су __листе__, __речници__, __торке__ и __скупови__. Ове године ћемо радити само са листама. (За детаљнији увод у листе можете да погледајте лекцију из [приручника за шести разред](https://petlja.org/kurs/368/14/2605).)"
   ]
  },
  {
   "cell_type": "markdown",
   "id": "c62e9c1f-1ea3-4597-b44c-6f3d16b6311d",
   "metadata": {},
   "source": [
    "### Листе (`list`)"
   ]
  },
  {
   "cell_type": "markdown",
   "id": "26531ab3-a28b-4e29-9831-73d149d56b8c",
   "metadata": {},
   "source": [
    "Листу правимо тако што унутар угластих заграда наводимо различите податке раздвајајући их зарезом. Елементи листе могу бити подаци свих типова па чак и саме листе. Подаци могу да се понављају. Важна карактеристика листа је да су елементи нумерисани. Сваки елемент има свој индекс који почиње од нуле. Елементи из листе се позивају преко имена листе и индекса у угластим заградама."
   ]
  },
  {
   "cell_type": "code",
   "execution_count": 12,
   "id": "2e91f502-11f7-497c-8a06-2b351e105fdf",
   "metadata": {},
   "outputs": [
    {
     "name": "stdout",
     "output_type": "stream",
     "text": [
      "četiri\n"
     ]
    }
   ],
   "source": [
    "lista=[2,3,'četiri']\n",
    "print(lista[2])"
   ]
  },
  {
   "cell_type": "markdown",
   "id": "bbd619ef-4b57-41fc-93b1-059c9d564ff7",
   "metadata": {},
   "source": [
    "### Функција `range()`"
   ]
  },
  {
   "cell_type": "markdown",
   "id": "89534ad6-242b-4d3e-8f12-76739104440b",
   "metadata": {},
   "source": [
    "Функција `range(n)` враћа низ бројева од 0 до n-1 у формату који заправо не одговара ни једној од четири поменуте колекције, али је погодан за прављење петљи. Понекад и за излаз функције `range()` са конкретним аргументом кажемо да је колекција. У општем случају, синтакса ове функције је `range(<старт>, <крај>, <корак>)` где појединачни аргументи означавају прву вредност, вредност на којој се низ зауставља и корак са којим вредности мењају."
   ]
  },
  {
   "cell_type": "code",
   "execution_count": 13,
   "id": "8a13c131-013d-405f-9014-2b396de92b29",
   "metadata": {},
   "outputs": [
    {
     "data": {
      "text/plain": [
       "6"
      ]
     },
     "execution_count": 13,
     "metadata": {},
     "output_type": "execute_result"
    }
   ],
   "source": [
    "len(range(0,30,5))"
   ]
  },
  {
   "cell_type": "markdown",
   "id": "f12bb8b7",
   "metadata": {
    "tags": []
   },
   "source": [
    "## Петље"
   ]
  },
  {
   "cell_type": "markdown",
   "id": "aae0087e-a391-4410-b386-8b4ea4d0133e",
   "metadata": {},
   "source": [
    "Када део програма треба да понoвимо више пута, пожељно је да тај кôд ставимо у петљу. Петља је програмска структура која нам омогућава да контролошемо колико ће се пута блок инструкција извршавати. Свако извршавање кôда у петљи назива се __итерација__. Променљива која броји колико пута је блок инструкција извршен назива се __итератор__ или __бројач__. "
   ]
  },
  {
   "cell_type": "markdown",
   "id": "adaff9fc-daeb-4662-8f3b-dfc6f875c53b",
   "metadata": {},
   "source": [
    "Најчешће коришћена петља у Пајтону је _for_ петља. Ова петља почиње инструкцијом `for`, иза ког иде услов да се бројач (итератор) налази у колекцији која следи. Оператор `in` између бројача и колекције означава услов да вредност бројача припада том скупу вредности. Прва линија петље завршава се знаком две тачке `:`. Следи блок инструкција који при писању мора да буде увучен. "
   ]
  },
  {
   "cell_type": "markdown",
   "id": "f5b24a18-c736-464b-9220-85ee82faf9e0",
   "metadata": {},
   "source": [
    "Петља у наредној ћелији користи излаз функције `range(10)` као колекцију. Ово је пример једноставног програма који исписује бројеве од 0 до 9."
   ]
  },
  {
   "cell_type": "code",
   "execution_count": 14,
   "id": "eb22a0ef",
   "metadata": {},
   "outputs": [
    {
     "name": "stdout",
     "output_type": "stream",
     "text": [
      "0\n",
      "1\n",
      "2\n",
      "3\n",
      "4\n",
      "5\n",
      "6\n",
      "7\n",
      "8\n",
      "9\n"
     ]
    }
   ],
   "source": [
    "for i in range(10):\n",
    "    print(i)"
   ]
  },
  {
   "cell_type": "markdown",
   "id": "dd66eaed-980b-498c-a86d-b05cc7497555",
   "metadata": {},
   "source": [
    "__Задатак 2__: Напишите програм који исписује све парне природне бројеве мање од 20. "
   ]
  },
  {
   "cell_type": "markdown",
   "id": "e922d362",
   "metadata": {},
   "source": [
    "Скуп вредности које узима променљива током итерирања овде је био дефинисан са `range(10)`, што је распон бројева од 0 до 9. Како у Пајтону индексирање увек почиње од нуле, вредности ове \"итерабле\" иду од 0 до 9. Реч __итерабла__ се односи на све колекције кроз које Пајтон може да пролази секвенцијално, односно тачно утврђеним редоследом од прве до последње вредности. Листе су такође итерабле па и њих можемо да користимо за конструисање петљи. Када итерирамо по колекцији типа _range_, итератори су бројеви. Ако користимо листу као итераблу, онда су вредности итератора вредности из листе које редом узимамо."
   ]
  },
  {
   "cell_type": "code",
   "execution_count": 15,
   "id": "b604837b",
   "metadata": {},
   "outputs": [
    {
     "name": "stdout",
     "output_type": "stream",
     "text": [
      "први\n",
      "други\n",
      "трећи\n"
     ]
    }
   ],
   "source": [
    "for s in ['први','други','трећи']:\n",
    "    print(s)"
   ]
  },
  {
   "cell_type": "markdown",
   "id": "ab862b52",
   "metadata": {},
   "source": [
    "Итерабле такође могу да буду и скупови, стрингови, торке итд. Стринг није ништа друго до листа карактера. Зато можемо да итерирамо кроз стринг, односно да правимо петљу у којој ће итератор узимати вредности из стринга. Ево једноставног примера:"
   ]
  },
  {
   "cell_type": "code",
   "execution_count": 16,
   "id": "4bf05f79",
   "metadata": {},
   "outputs": [
    {
     "name": "stdout",
     "output_type": "stream",
     "text": [
      "P\n",
      "y\n",
      "t\n",
      "h\n",
      "o\n",
      "n\n"
     ]
    }
   ],
   "source": [
    "for c in \"Python\":\n",
    "    print(c)"
   ]
  },
  {
   "cell_type": "markdown",
   "id": "6ac64616",
   "metadata": {},
   "source": [
    "Осим _for_ петље, Пајтон има и _while_ петљу. Код ње није битно да итератор буде у одређеном скупу. _while_ петља се извршава док год је припадајући услов испуњен, односно док је логички исказ тачан. Ево примера како пример са _for_ петљом можемо да напишемо користећи инструкцију `while`."
   ]
  },
  {
   "cell_type": "code",
   "execution_count": 17,
   "id": "a63390ac",
   "metadata": {},
   "outputs": [
    {
     "name": "stdout",
     "output_type": "stream",
     "text": [
      "0\n",
      "1\n",
      "2\n",
      "3\n",
      "4\n",
      "5\n",
      "6\n",
      "7\n",
      "8\n",
      "9\n"
     ]
    }
   ],
   "source": [
    "i=0\n",
    "while i<10:\n",
    "    print(i)\n",
    "    i+=1"
   ]
  },
  {
   "cell_type": "markdown",
   "id": "178a05a2",
   "metadata": {},
   "source": [
    "Приметите да овде \"ручно\" морамо да мењамо вредност индекса `i`. Израз `i+=1` је скраћени запис од `i=i+1`. То значи да у свакој итерацији вредност индекса `i` повећавамо за 1."
   ]
  },
  {
   "cell_type": "markdown",
   "id": "b4244bd4-4453-42b3-b147-a45e56efb8ca",
   "metadata": {},
   "source": [
    "__Задатак 3__: Напишите програм који сабира редом природне бројеве почевши од 1 док њихов збир не пређе 1000. Колико је за то потребно бројева?"
   ]
  },
  {
   "cell_type": "markdown",
   "id": "7b06f244",
   "metadata": {
    "tags": []
   },
   "source": [
    "### Угњеждене петље"
   ]
  },
  {
   "cell_type": "markdown",
   "id": "19da8996",
   "metadata": {},
   "source": [
    "Унутар једне петље лако можете да ставите другу. Пазите само да итератори имају различита имена. Типичан пример проблема који можете да решите петљом у петљи је да направите табелу где рачунате резултате неке операције између свака два елемента низа. Конкретно, можемо да направимо таблицу множења. Потребно је само сваки елемент једног низа помножити са сваким елементом другог. Следи пример једноставног програма који то рачуна и исписује на екрану."
   ]
  },
  {
   "cell_type": "code",
   "execution_count": 18,
   "id": "9b657095",
   "metadata": {
    "scrolled": true
   },
   "outputs": [
    {
     "name": "stdout",
     "output_type": "stream",
     "text": [
      "1\t2\t3\t4\t5\t\n",
      "\n",
      "2\t4\t6\t8\t10\t\n",
      "\n",
      "3\t6\t9\t12\t15\t\n",
      "\n",
      "4\t8\t12\t16\t20\t\n",
      "\n",
      "5\t10\t15\t20\t25\t\n",
      "\n"
     ]
    }
   ],
   "source": [
    "n=5\n",
    "for i in range(1,n+1):\n",
    "    for j in range (1,n+1):\n",
    "        print(i*j,end=\"\\t\")\n",
    "    print(\"\\n\")"
   ]
  },
  {
   "cell_type": "markdown",
   "id": "666dac94",
   "metadata": {},
   "source": [
    "Ако занемарите мало чудан начин исписа, програм је крајње једноставан. Узимамо све бројеве од 1 до 5, множимо сваки са сваким и приказујемо то на екрану. Оно што је необично код исписа је што смо ставили да се испис завршава \"табом\", а не новим редом. То нам омогућава да испишемо 5 резултата у једном реду. Ред завршавамо тек када унутрашња петља стигне до краја. Контролни знак за таб је \"\\\\t\", а за нови ред \"\\\\n\"."
   ]
  },
  {
   "cell_type": "markdown",
   "id": "0de850f4-3c74-49c2-bc12-46f3218a7a24",
   "metadata": {},
   "source": [
    "__Задатак 4__: Користећи две угњеждене петље, за сваки број _i_ од 1 до 15 израчунајте збир свих бројева од 1 до _i_."
   ]
  },
  {
   "cell_type": "markdown",
   "id": "cfc16411-1c04-47b5-97af-5bbf28002cf3",
   "metadata": {},
   "source": [
    "__Задатак 5__: Испиши све троцифрене бројеве користећи цифре 1, 2 и 3. (Искористе три угњеждене петље.)"
   ]
  },
  {
   "cell_type": "markdown",
   "id": "76dba9ed-933a-4578-8deb-d7cafed696fd",
   "metadata": {
    "tags": []
   },
   "source": [
    "### Условно гранање"
   ]
  },
  {
   "cell_type": "markdown",
   "id": "53f4967f-4de1-4635-8ae5-85354a73c077",
   "metadata": {},
   "source": [
    "Да би програм могао да одлучи који део кôда треба да изврши потребно је да провери испуњеност траженог критеријума, односно да евалуира (вреднује) одговарајући логички исказ. У зависности од тога да ли је услов испуњен или не, програм ће извршавати различите делове кôда. У Пајтону се најчешће користи _if-then-else_ конструкција. Прво проверавамо да ли је испуњен услов наведен иза _if_, ако јесте онда програм извршава оно што иде после _then_, а ако није испуњен извршава оно што следи после _else_. Погледајте пример."
   ]
  },
  {
   "cell_type": "code",
   "execution_count": 19,
   "id": "0ec4c1c7-75ce-4b50-b200-ca883bf1cc5e",
   "metadata": {},
   "outputs": [
    {
     "name": "stdin",
     "output_type": "stream",
     "text": [
      " 7\n"
     ]
    },
    {
     "name": "stdout",
     "output_type": "stream",
     "text": [
      "непаран\n"
     ]
    }
   ],
   "source": [
    "a=int(input())\n",
    "if a%2==0:\n",
    "    print('паран')\n",
    "else:\n",
    "    print('непаран')"
   ]
  },
  {
   "cell_type": "markdown",
   "id": "60367f0e-38f4-4c09-aa81-68ba2bfe6041",
   "metadata": {},
   "source": [
    "У овом примеру прво тражимо да неко помоћу тастатуре укуца број, онда тај унос претворимо у интиџер и придружимо га промељивој `a`. У следећој линији проверавамо да ли је тај број дељив са 2, односно да ли је остатак при дељењу са 2 једнак нули. Потом, као увучени блок инструкција, иде оно што треба извршти ако је услов испуњен, тј. да програм испише да је унети број паран. У противном, програм извршава следећи увучени блок инструкција и исписује да је број непаран."
   ]
  },
  {
   "cell_type": "markdown",
   "id": "db7bae3b-7fff-46c2-bde9-3f3b02520a89",
   "metadata": {},
   "source": [
    "Обратите пажњу на синтаксу. У Пајтону се инструкција _then_ уопште не користи. Уместо тога користе се знак `:` и увучени блокови инструкција. Видите како се после реда који се завршава са `:` појављује увучени део кôда. Први блок инструкција (који може да има произвољно много линија кôда) извршава се ако је услов испуњен, а други блок (после `else:`) ако услов није испуњен."
   ]
  },
  {
   "cell_type": "markdown",
   "id": "2d3e6e05-ba42-495f-a635-69ddf8685300",
   "metadata": {},
   "source": [
    "Уколико гранање на две могућности није довољно, можемо да уведемо и нове блокове помоћу `elif` инструкције. Нема ограничења колико ових услова може да буде. Када први услов није испуњен, онда можемо да испитамо да ли је неки други услов испуњен помоћу `elif`. Погледајте пример."
   ]
  },
  {
   "cell_type": "code",
   "execution_count": 20,
   "id": "c624e0db-48c6-46ca-9823-780d1ce30d1f",
   "metadata": {},
   "outputs": [
    {
     "name": "stdout",
     "output_type": "stream",
     "text": [
      "a je manje od b.\n"
     ]
    }
   ],
   "source": [
    "a=5\n",
    "b=6\n",
    "if a==b:\n",
    "    print(\"a i b su jednaki.\")\n",
    "elif a<b:\n",
    "    print(\"a je manje od b.\")\n",
    "else:\n",
    "    print(\"a je veće od b.\")       "
   ]
  },
  {
   "cell_type": "markdown",
   "id": "7be7ea9b-6aab-49b8-aa0e-c7a6e8a5d7b4",
   "metadata": {},
   "source": [
    "Други начин да проверимо више услова јесте да у _if-then-else_ блоковима уведемо нове услове и ново гранање. Ако то радите обратите пажњу да ти нови блокови морају да буду још једном увучени помоћу табулатора. Ако су они први били по 4 размака (1 \"таб\"), онда ови угњеждени морају да буду по 8 (2 \"таба\"). Едитор у коме радите обично води рачуна о увлачењу блокова, али није лоше да проверите да ли је све увучено како треба. За разлику од неких других програмских језика, Пајтон неће да ради и пријављује грешку ако блокови нису правилно увучени. Ево примера како смо претходни пример могли да урадимо са угњежденим условима."
   ]
  },
  {
   "cell_type": "code",
   "execution_count": 21,
   "id": "6cc06a57-70cd-4a5f-9bcc-0dfed98f538f",
   "metadata": {},
   "outputs": [
    {
     "name": "stdout",
     "output_type": "stream",
     "text": [
      "a i b su jednaki.\n"
     ]
    }
   ],
   "source": [
    "a=6\n",
    "b=6\n",
    "if a<b:\n",
    "    print(\"a je manje od b.\")\n",
    "else:\n",
    "    if a==b:\n",
    "        print(\"a i b su jednaki.\")\n",
    "    else:\n",
    "        print(\"a je veće od b.\")"
   ]
  },
  {
   "cell_type": "markdown",
   "id": "f92cf5d2-f0a0-4e45-bcd5-52643ab7545e",
   "metadata": {},
   "source": [
    "__Задатак 6__: Напиши програм који вредности у листи `[1,\"jedan\",1,2,2,1,\"dva\",\"dva\",\"dva\",\"jedan\"]` претвара у одговарајуће нумеричке ако оне то већ нису."
   ]
  },
  {
   "cell_type": "markdown",
   "id": "b69b1e6d-d53a-4c14-9207-0badcad2a61a",
   "metadata": {},
   "source": [
    "## Функције"
   ]
  },
  {
   "cell_type": "markdown",
   "id": "740271db-ef6f-4aaf-90e4-0bc65ab8b119",
   "metadata": {},
   "source": [
    "Пајтон има неке уграђене функције као што су `sum()` или `min()`, али за конкретну намену сами можемо да напишемо нову функцију. Функције се једноставно дефинишу: у првој линији пишемо `def <име функције>(<име променљиве у коју се смешта аргумент>):`, онда следи блок инструкција којима обрађујемо и рачунамо нешто са улазном променљивом и на крају, у последњој линији, пишемо `return <име излазне променљиве>`. Свака функција може да има више улазних променљивих, као што може да врати и више излазних. "
   ]
  },
  {
   "cell_type": "markdown",
   "id": "2e29cf50-a73c-42bd-bb38-3a8961ca9a64",
   "metadata": {},
   "source": [
    "Први пример функције који ћемо овде приказати је рачунање производа свих вредности у листи. Оваква функција не постоји у стандардној Пајтоновој библиотеци. Зато је добро да знамо да је напишемо."
   ]
  },
  {
   "cell_type": "code",
   "execution_count": 22,
   "id": "72084f83-c9c2-48a9-b6ce-a8f8f525f3aa",
   "metadata": {},
   "outputs": [],
   "source": [
    "def proizvod(L):     # argument, odnosno lista koju prosleđujemo funkciji biće smeštena u promenljivu L \n",
    "    p=1              # početna vrednost proizvoda je 1\n",
    "    for x in L:      # za svaku vrednost iz liste\n",
    "        p=p*x        # tekuću vrednost proizvoda množimo tom vrednošću\n",
    "    return p         # funkcija vraća proizvod svih vrednosti u listi"
   ]
  },
  {
   "cell_type": "code",
   "execution_count": 23,
   "id": "babe5e24-f766-4ee9-af33-1c7c386f87f9",
   "metadata": {},
   "outputs": [
    {
     "data": {
      "text/plain": [
       "120"
      ]
     },
     "execution_count": 23,
     "metadata": {},
     "output_type": "execute_result"
    }
   ],
   "source": [
    "proizvod([1,2,3,4,5])"
   ]
  },
  {
   "cell_type": "markdown",
   "id": "ce898eb4-8b36-4a93-a06a-5660d4271275",
   "metadata": {},
   "source": [
    "__Задатак 7__: По угледу на претходни пример, напишите функцију `zbir()` која сабира све елементе листе."
   ]
  },
  {
   "cell_type": "markdown",
   "id": "3b131b5a-9185-4acd-bcf7-9ee5b41e2c68",
   "metadata": {},
   "source": [
    "Како бисте написали функцију чији је улаз листа, а излаз најмања вредност из те листе? Та функција треба да пронађе најмању вредност у листи и да је врати. Оваква функција већ постоји у Пајтону и зове се `min()`, али ћемо искористи прилику да напишемо своју верзију. Име ове нове функције ће бити `minimum()`. Ево једне могућности како то може да се напише."
   ]
  },
  {
   "cell_type": "code",
   "execution_count": 24,
   "id": "1d5a3dbc-ffc5-499a-942e-fdbdd6a3416b",
   "metadata": {},
   "outputs": [],
   "source": [
    "def minimum(L): \n",
    "    m=L[0]            # za početak, najmanja vrednost će biti ona prva u listi\n",
    "    for x in L[1:]:   # iteracije kreću od druge vrednosti u listi i idu do kraja\n",
    "        if x<m:       # ako je tekuća vrednost iteratora x manja od m, tj. one koja je do sada bila najmanja\n",
    "            m=x       # onda neka novi minimum bude x\n",
    "    return m          # na kraju funkcija vraća vrednost m"
   ]
  },
  {
   "cell_type": "code",
   "execution_count": 25,
   "id": "3ca88c1f-5970-411a-b485-f9fdb68d61b2",
   "metadata": {},
   "outputs": [
    {
     "data": {
      "text/plain": [
       "10"
      ]
     },
     "execution_count": 25,
     "metadata": {},
     "output_type": "execute_result"
    }
   ],
   "source": [
    "lista=[11,22,33,14,25,36,17,28,39,10,21,32]\n",
    "minimum(lista)"
   ]
  },
  {
   "cell_type": "markdown",
   "id": "9b058fe6-165b-4911-b215-50e4c8a5b861",
   "metadata": {},
   "source": [
    "## Библиотеке"
   ]
  },
  {
   "cell_type": "markdown",
   "id": "ddb01556",
   "metadata": {},
   "source": [
    "Пајтон без додатних библиотека има само основне типове података, структуре и функције. У тој стандардној библиотеци нема структура у којима бисмо чували табеле, нема функција које би цртале графиконе или чак рачунале једноставне математичке функције. За све то је потребно да учитамо библиотеке, модуле из библиотека или њихове појединачне функције. Срећом, Пајтон има огроман број врло квалитетних библиотека до којих се лако долази."
   ]
  },
  {
   "cell_type": "markdown",
   "id": "1c9e02b4",
   "metadata": {},
   "source": [
    "Библиотеке се састоје из модула који у себи садрже разне типове података, објекте, функције и методе за те објекте итд. Стандардна библиотека има неколико модула које не учитава аутоматски. То значи да су модули инсталирани, али да треба да их учитамо. Међу њима су модули који су нам често потребни као што су `math` (математичке функције), `random` (генерисање случајних бројева) или `statistics` (статистичке функције). "
   ]
  },
  {
   "cell_type": "markdown",
   "id": "7e8700f8",
   "metadata": {},
   "source": [
    "Када увеземо целу библиотеку или модул помоћу инструкције `import`, можемо да користимо све њене функције и објекте само морамо да наведемо одакле су преузети. На пример, када учитамо библитеку `math`, добићемо и функције и константе које уз њу иду. Кад их позивамо прво куцамо име библиотеке са тачком на крају, тј. `math.` па онда име функције или константе."
   ]
  },
  {
   "cell_type": "code",
   "execution_count": 26,
   "id": "1fe4a7b4",
   "metadata": {},
   "outputs": [
    {
     "name": "stdout",
     "output_type": "stream",
     "text": [
      "3.141592653589793\n",
      "9.0\n"
     ]
    }
   ],
   "source": [
    "import math           # uvozimo biblioteku math\n",
    "print(math.pi)        # ispisujemo konstantu pi\n",
    "print(math.sqrt(81))  # ispisujemo kvadratni koren iz 81"
   ]
  },
  {
   "cell_type": "markdown",
   "id": "cbf8ad2f",
   "metadata": {},
   "source": [
    "Има библиотека које имају непрактично дуга имена па би било тешко стално укуцавати њихова имена кад хоћемо да позивамо њихове функције. У тим случајевима већ при учитавању библиотеке кажемо Пајтону да ћемо је убудуће позивати по \"надимку\", тј. скраћеној верзији имена коју можемо сами да смислимо. У следећој ћелији је пример како увозимо библиотеку `matploylib.pyplot` одређујући да ћемо је убудуће звати само `plt`. "
   ]
  },
  {
   "cell_type": "code",
   "execution_count": 27,
   "id": "0fa6af1b",
   "metadata": {},
   "outputs": [
    {
     "data": {
      "text/plain": [
       "[<matplotlib.lines.Line2D at 0x1bf6b956280>]"
      ]
     },
     "execution_count": 27,
     "metadata": {},
     "output_type": "execute_result"
    },
    {
     "data": {
      "image/png": "[encoded data removed]",
      "text/plain": [
       "<Figure size 432x288 with 1 Axes>"
      ]
     },
     "metadata": {
      "needs_background": "light"
     },
     "output_type": "display_data"
    }
   ],
   "source": [
    "import matplotlib.pyplot as plt\n",
    "plt.plot([4,2,3,4,3])"
   ]
  },
  {
   "cell_type": "markdown",
   "id": "8dd034fb",
   "metadata": {},
   "source": [
    "Ако нас интересује само једна функција из библиотеке, можемо њу посебно да учитамо помоћу линије `from <назив библиотеке> import <назив функције> `. Тада при употреби не морамо да наводимо из које је библиотеке. На пример, ако из целог модула `statistics` хоћемо само функцију `mean()` која рачуна средњу вредност низа, то можемо да урадимо на следећи начин:"
   ]
  },
  {
   "cell_type": "code",
   "execution_count": 28,
   "id": "12981a52",
   "metadata": {},
   "outputs": [
    {
     "data": {
      "text/plain": [
       "4.25"
      ]
     },
     "execution_count": 28,
     "metadata": {},
     "output_type": "execute_result"
    }
   ],
   "source": [
    "from statistics import mean\n",
    "mean([3,4,4,6])"
   ]
  },
  {
   "cell_type": "markdown",
   "id": "a5721a66",
   "metadata": {},
   "source": [
    "Многе важне екстерене библиотеке су већ инсталиране у Џупитер окружењу. Оне које се најчешће користе су `pandas` за рад са табелама и фајловима, `matplotlib.pyplot` за цртање графикона и `numpy` за рад са вишедимензионалним подацима. Уколико тражене библиотеке нема у окружењу, потребно је да је инсталирате. У већини случајева нема потребе да библиотеку тражите на интернету и да је преузимате. Довољно је да укуцате `pip install <назив библиотеке>` и Пајтон ће библиотеку сам пронаћи, преузети и инсталирати."
   ]
  }
 ],
 "metadata": {
  "kernelspec": {
   "display_name": "Python 3",
   "language": "python",
   "name": "python3"
  },
  "language_info": {
   "codemirror_mode": {
    "name": "ipython",
    "version": 3
   },
   "file_extension": ".py",
   "mimetype": "text/x-python",
   "name": "python",
   "nbconvert_exporter": "python",
   "pygments_lexer": "ipython3",
   "version": "3.9.1"
  }
 },
 "nbformat": 4,
 "nbformat_minor": 5
}
